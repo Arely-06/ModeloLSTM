{
  "nbformat": 4,
  "nbformat_minor": 0,
  "metadata": {
    "colab": {
      "provenance": []
    },
    "kernelspec": {
      "name": "python3",
      "display_name": "Python 3"
    },
    "language_info": {
      "name": "python"
    }
  },
  "cells": [
    {
      "cell_type": "markdown",
      "source": [
        "Este proyecto se haraán predicciones del valor del dolar en México. Para ésto se hace uso de la base de datos tomada de https://www.banxico.org.mxSieInternet/consultarDirectorioInternetAction.do?sector=6accion=consultarCuadroidCuadro=CF373&locale=es, de donde se toma la serie de tiempo a partir de la devaluación del peso (año 1994) hasta la actualidad.\n"
      ],
      "metadata": {
        "id": "DOfjkE7taFfC"
      }
    },
    {
      "cell_type": "markdown",
      "source": [
        "Como primer paso, se cargan todas las paqueterías necesarias."
      ],
      "metadata": {
        "id": "7ulToILURRVF"
      }
    },
    {
      "cell_type": "code",
      "execution_count": 2,
      "metadata": {
        "id": "SszoG33V1UkQ"
      },
      "outputs": [],
      "source": [
        "from tensorflow.keras import Sequential"
      ]
    },
    {
      "cell_type": "code",
      "source": [
        "import numpy as np\n",
        "import pandas as pd\n",
        "from sklearn.preprocessing import MinMaxScaler\n",
        "from sklearn.impute import SimpleImputer\n",
        "from sklearn.metrics import r2_score\n",
        "from tensorflow.keras.models import Sequential\n",
        "from tensorflow.keras.layers import LSTM, Dense, Dropout\n",
        "from tensorflow.keras.optimizers import Adam\n",
        "import matplotlib.pyplot as plt\n",
        "import plotly.graph_objects as go"
      ],
      "metadata": {
        "id": "j74e7I-UIvOy"
      },
      "execution_count": 49,
      "outputs": []
    },
    {
      "cell_type": "code",
      "source": [
        "from google.colab import drive\n",
        "drive.mount('/content/drive')"
      ],
      "metadata": {
        "colab": {
          "base_uri": "https://localhost:8080/"
        },
        "id": "P2DzMfm3QLf0",
        "outputId": "cbff7474-de78-4146-be90-0b930f663e65"
      },
      "execution_count": 4,
      "outputs": [
        {
          "output_type": "stream",
          "name": "stdout",
          "text": [
            "Drive already mounted at /content/drive; to attempt to forcibly remount, call drive.mount(\"/content/drive\", force_remount=True).\n"
          ]
        }
      ]
    },
    {
      "cell_type": "markdown",
      "source": [
        "Para poder llevar a cabo la comparación entre los datos originales y los datos prnosticados, se hizo una separación de la base de datos en dos partes. Debido a que se hará un el pronóstico de los años 2024 y parte del 2025, se creo un archivo .csv que contiene los ya mencionados y que se usarán más adelante."
      ],
      "metadata": {
        "id": "QFwuhoD1kxhA"
      }
    },
    {
      "cell_type": "code",
      "source": [
        "#Cargar los datos de entrenamiento\n",
        "train_data=pd.read_csv('/content/drive/MyDrive/Colab Notebooks/Diplomado_Análisis de datos /Consulta_20250416-223426180.csv', index_col='Fecha', parse_dates=True)\n",
        "train_data_or=train_data['Tipo de cambio ']"
      ],
      "metadata": {
        "id": "8pL3i-9PLSBw"
      },
      "execution_count": 26,
      "outputs": []
    },
    {
      "cell_type": "code",
      "source": [
        "train_data.head()"
      ],
      "metadata": {
        "colab": {
          "base_uri": "https://localhost:8080/",
          "height": 238
        },
        "id": "jpJNsXwVkNYQ",
        "outputId": "5f22198d-cb37-4de6-83f3-3d76453c57a0"
      },
      "execution_count": 210,
      "outputs": [
        {
          "output_type": "execute_result",
          "data": {
            "text/plain": [
              "            Tipo de cambio \n",
              "Fecha                      \n",
              "03/01/1994           3.1075\n",
              "04/01/1994           3.1129\n",
              "05/01/1994           3.1060\n",
              "06/01/1994           3.1057\n",
              "07/01/1994           3.1057"
            ],
            "text/html": [
              "\n",
              "  <div id=\"df-85423cd7-ba00-4a00-9b4a-eaac48889a15\" class=\"colab-df-container\">\n",
              "    <div>\n",
              "<style scoped>\n",
              "    .dataframe tbody tr th:only-of-type {\n",
              "        vertical-align: middle;\n",
              "    }\n",
              "\n",
              "    .dataframe tbody tr th {\n",
              "        vertical-align: top;\n",
              "    }\n",
              "\n",
              "    .dataframe thead th {\n",
              "        text-align: right;\n",
              "    }\n",
              "</style>\n",
              "<table border=\"1\" class=\"dataframe\">\n",
              "  <thead>\n",
              "    <tr style=\"text-align: right;\">\n",
              "      <th></th>\n",
              "      <th>Tipo de cambio</th>\n",
              "    </tr>\n",
              "    <tr>\n",
              "      <th>Fecha</th>\n",
              "      <th></th>\n",
              "    </tr>\n",
              "  </thead>\n",
              "  <tbody>\n",
              "    <tr>\n",
              "      <th>03/01/1994</th>\n",
              "      <td>3.1075</td>\n",
              "    </tr>\n",
              "    <tr>\n",
              "      <th>04/01/1994</th>\n",
              "      <td>3.1129</td>\n",
              "    </tr>\n",
              "    <tr>\n",
              "      <th>05/01/1994</th>\n",
              "      <td>3.1060</td>\n",
              "    </tr>\n",
              "    <tr>\n",
              "      <th>06/01/1994</th>\n",
              "      <td>3.1057</td>\n",
              "    </tr>\n",
              "    <tr>\n",
              "      <th>07/01/1994</th>\n",
              "      <td>3.1057</td>\n",
              "    </tr>\n",
              "  </tbody>\n",
              "</table>\n",
              "</div>\n",
              "    <div class=\"colab-df-buttons\">\n",
              "\n",
              "  <div class=\"colab-df-container\">\n",
              "    <button class=\"colab-df-convert\" onclick=\"convertToInteractive('df-85423cd7-ba00-4a00-9b4a-eaac48889a15')\"\n",
              "            title=\"Convert this dataframe to an interactive table.\"\n",
              "            style=\"display:none;\">\n",
              "\n",
              "  <svg xmlns=\"http://www.w3.org/2000/svg\" height=\"24px\" viewBox=\"0 -960 960 960\">\n",
              "    <path d=\"M120-120v-720h720v720H120Zm60-500h600v-160H180v160Zm220 220h160v-160H400v160Zm0 220h160v-160H400v160ZM180-400h160v-160H180v160Zm440 0h160v-160H620v160ZM180-180h160v-160H180v160Zm440 0h160v-160H620v160Z\"/>\n",
              "  </svg>\n",
              "    </button>\n",
              "\n",
              "  <style>\n",
              "    .colab-df-container {\n",
              "      display:flex;\n",
              "      gap: 12px;\n",
              "    }\n",
              "\n",
              "    .colab-df-convert {\n",
              "      background-color: #E8F0FE;\n",
              "      border: none;\n",
              "      border-radius: 50%;\n",
              "      cursor: pointer;\n",
              "      display: none;\n",
              "      fill: #1967D2;\n",
              "      height: 32px;\n",
              "      padding: 0 0 0 0;\n",
              "      width: 32px;\n",
              "    }\n",
              "\n",
              "    .colab-df-convert:hover {\n",
              "      background-color: #E2EBFA;\n",
              "      box-shadow: 0px 1px 2px rgba(60, 64, 67, 0.3), 0px 1px 3px 1px rgba(60, 64, 67, 0.15);\n",
              "      fill: #174EA6;\n",
              "    }\n",
              "\n",
              "    .colab-df-buttons div {\n",
              "      margin-bottom: 4px;\n",
              "    }\n",
              "\n",
              "    [theme=dark] .colab-df-convert {\n",
              "      background-color: #3B4455;\n",
              "      fill: #D2E3FC;\n",
              "    }\n",
              "\n",
              "    [theme=dark] .colab-df-convert:hover {\n",
              "      background-color: #434B5C;\n",
              "      box-shadow: 0px 1px 3px 1px rgba(0, 0, 0, 0.15);\n",
              "      filter: drop-shadow(0px 1px 2px rgba(0, 0, 0, 0.3));\n",
              "      fill: #FFFFFF;\n",
              "    }\n",
              "  </style>\n",
              "\n",
              "    <script>\n",
              "      const buttonEl =\n",
              "        document.querySelector('#df-85423cd7-ba00-4a00-9b4a-eaac48889a15 button.colab-df-convert');\n",
              "      buttonEl.style.display =\n",
              "        google.colab.kernel.accessAllowed ? 'block' : 'none';\n",
              "\n",
              "      async function convertToInteractive(key) {\n",
              "        const element = document.querySelector('#df-85423cd7-ba00-4a00-9b4a-eaac48889a15');\n",
              "        const dataTable =\n",
              "          await google.colab.kernel.invokeFunction('convertToInteractive',\n",
              "                                                    [key], {});\n",
              "        if (!dataTable) return;\n",
              "\n",
              "        const docLinkHtml = 'Like what you see? Visit the ' +\n",
              "          '<a target=\"_blank\" href=https://colab.research.google.com/notebooks/data_table.ipynb>data table notebook</a>'\n",
              "          + ' to learn more about interactive tables.';\n",
              "        element.innerHTML = '';\n",
              "        dataTable['output_type'] = 'display_data';\n",
              "        await google.colab.output.renderOutput(dataTable, element);\n",
              "        const docLink = document.createElement('div');\n",
              "        docLink.innerHTML = docLinkHtml;\n",
              "        element.appendChild(docLink);\n",
              "      }\n",
              "    </script>\n",
              "  </div>\n",
              "\n",
              "\n",
              "<div id=\"df-3957cf0a-a31e-4a54-b2a4-8798ab75c9fa\">\n",
              "  <button class=\"colab-df-quickchart\" onclick=\"quickchart('df-3957cf0a-a31e-4a54-b2a4-8798ab75c9fa')\"\n",
              "            title=\"Suggest charts\"\n",
              "            style=\"display:none;\">\n",
              "\n",
              "<svg xmlns=\"http://www.w3.org/2000/svg\" height=\"24px\"viewBox=\"0 0 24 24\"\n",
              "     width=\"24px\">\n",
              "    <g>\n",
              "        <path d=\"M19 3H5c-1.1 0-2 .9-2 2v14c0 1.1.9 2 2 2h14c1.1 0 2-.9 2-2V5c0-1.1-.9-2-2-2zM9 17H7v-7h2v7zm4 0h-2V7h2v10zm4 0h-2v-4h2v4z\"/>\n",
              "    </g>\n",
              "</svg>\n",
              "  </button>\n",
              "\n",
              "<style>\n",
              "  .colab-df-quickchart {\n",
              "      --bg-color: #E8F0FE;\n",
              "      --fill-color: #1967D2;\n",
              "      --hover-bg-color: #E2EBFA;\n",
              "      --hover-fill-color: #174EA6;\n",
              "      --disabled-fill-color: #AAA;\n",
              "      --disabled-bg-color: #DDD;\n",
              "  }\n",
              "\n",
              "  [theme=dark] .colab-df-quickchart {\n",
              "      --bg-color: #3B4455;\n",
              "      --fill-color: #D2E3FC;\n",
              "      --hover-bg-color: #434B5C;\n",
              "      --hover-fill-color: #FFFFFF;\n",
              "      --disabled-bg-color: #3B4455;\n",
              "      --disabled-fill-color: #666;\n",
              "  }\n",
              "\n",
              "  .colab-df-quickchart {\n",
              "    background-color: var(--bg-color);\n",
              "    border: none;\n",
              "    border-radius: 50%;\n",
              "    cursor: pointer;\n",
              "    display: none;\n",
              "    fill: var(--fill-color);\n",
              "    height: 32px;\n",
              "    padding: 0;\n",
              "    width: 32px;\n",
              "  }\n",
              "\n",
              "  .colab-df-quickchart:hover {\n",
              "    background-color: var(--hover-bg-color);\n",
              "    box-shadow: 0 1px 2px rgba(60, 64, 67, 0.3), 0 1px 3px 1px rgba(60, 64, 67, 0.15);\n",
              "    fill: var(--button-hover-fill-color);\n",
              "  }\n",
              "\n",
              "  .colab-df-quickchart-complete:disabled,\n",
              "  .colab-df-quickchart-complete:disabled:hover {\n",
              "    background-color: var(--disabled-bg-color);\n",
              "    fill: var(--disabled-fill-color);\n",
              "    box-shadow: none;\n",
              "  }\n",
              "\n",
              "  .colab-df-spinner {\n",
              "    border: 2px solid var(--fill-color);\n",
              "    border-color: transparent;\n",
              "    border-bottom-color: var(--fill-color);\n",
              "    animation:\n",
              "      spin 1s steps(1) infinite;\n",
              "  }\n",
              "\n",
              "  @keyframes spin {\n",
              "    0% {\n",
              "      border-color: transparent;\n",
              "      border-bottom-color: var(--fill-color);\n",
              "      border-left-color: var(--fill-color);\n",
              "    }\n",
              "    20% {\n",
              "      border-color: transparent;\n",
              "      border-left-color: var(--fill-color);\n",
              "      border-top-color: var(--fill-color);\n",
              "    }\n",
              "    30% {\n",
              "      border-color: transparent;\n",
              "      border-left-color: var(--fill-color);\n",
              "      border-top-color: var(--fill-color);\n",
              "      border-right-color: var(--fill-color);\n",
              "    }\n",
              "    40% {\n",
              "      border-color: transparent;\n",
              "      border-right-color: var(--fill-color);\n",
              "      border-top-color: var(--fill-color);\n",
              "    }\n",
              "    60% {\n",
              "      border-color: transparent;\n",
              "      border-right-color: var(--fill-color);\n",
              "    }\n",
              "    80% {\n",
              "      border-color: transparent;\n",
              "      border-right-color: var(--fill-color);\n",
              "      border-bottom-color: var(--fill-color);\n",
              "    }\n",
              "    90% {\n",
              "      border-color: transparent;\n",
              "      border-bottom-color: var(--fill-color);\n",
              "    }\n",
              "  }\n",
              "</style>\n",
              "\n",
              "  <script>\n",
              "    async function quickchart(key) {\n",
              "      const quickchartButtonEl =\n",
              "        document.querySelector('#' + key + ' button');\n",
              "      quickchartButtonEl.disabled = true;  // To prevent multiple clicks.\n",
              "      quickchartButtonEl.classList.add('colab-df-spinner');\n",
              "      try {\n",
              "        const charts = await google.colab.kernel.invokeFunction(\n",
              "            'suggestCharts', [key], {});\n",
              "      } catch (error) {\n",
              "        console.error('Error during call to suggestCharts:', error);\n",
              "      }\n",
              "      quickchartButtonEl.classList.remove('colab-df-spinner');\n",
              "      quickchartButtonEl.classList.add('colab-df-quickchart-complete');\n",
              "    }\n",
              "    (() => {\n",
              "      let quickchartButtonEl =\n",
              "        document.querySelector('#df-3957cf0a-a31e-4a54-b2a4-8798ab75c9fa button');\n",
              "      quickchartButtonEl.style.display =\n",
              "        google.colab.kernel.accessAllowed ? 'block' : 'none';\n",
              "    })();\n",
              "  </script>\n",
              "</div>\n",
              "\n",
              "    </div>\n",
              "  </div>\n"
            ],
            "application/vnd.google.colaboratory.intrinsic+json": {
              "type": "dataframe",
              "variable_name": "train_data",
              "summary": "{\n  \"name\": \"train_data\",\n  \"rows\": 7869,\n  \"fields\": [\n    {\n      \"column\": \"Fecha\",\n      \"properties\": {\n        \"dtype\": \"string\",\n        \"num_unique_values\": 7869,\n        \"samples\": [\n          \"30/12/2024\",\n          \"05/01/1996\",\n          \"31/10/2019\"\n        ],\n        \"semantic_type\": \"\",\n        \"description\": \"\"\n      }\n    },\n    {\n      \"column\": \"Tipo de cambio \",\n      \"properties\": {\n        \"dtype\": \"number\",\n        \"std\": 4.688522847193321,\n        \"min\": 3.105,\n        \"max\": 25.1185,\n        \"num_unique_values\": 7484,\n        \"samples\": [\n          10.7282,\n          18.9257,\n          10.9047\n        ],\n        \"semantic_type\": \"\",\n        \"description\": \"\"\n      }\n    }\n  ]\n}"
            }
          },
          "metadata": {},
          "execution_count": 210
        }
      ]
    },
    {
      "cell_type": "code",
      "source": [
        "imputer = SimpleImputer(strategy='mean')\n",
        "train_data_or=pd.DataFrame(imputer.fit_transform(train_data), columns=train_data.columns, index=train_data.index)\n"
      ],
      "metadata": {
        "id": "Jw5tSbu_B0Pz"
      },
      "execution_count": 27,
      "outputs": []
    },
    {
      "cell_type": "code",
      "source": [
        "# Escalado de datos\n",
        "scaler = MinMaxScaler(feature_range=(0, 1))    ###transforma los datos en ceros y uno\n",
        "train_scaled = scaler.fit_transform(train_data_or)\n",
        "\n",
        "# Crear secuencias de temporales, datos para el entrenamiento\n",
        "def create_dataset(dataset, look_back=60):\n",
        "    X, Y = [], []\n",
        "    for i in range(len(dataset) - look_back):\n",
        "        a = dataset[i:(i + look_back), :]\n",
        "        X.append(a)\n",
        "        Y.append(dataset[i + look_back, 0])\n",
        "    return np.array(X), np.array(Y)\n",
        "\n",
        "X_train, y_train = create_dataset(train_scaled, 60)\n"
      ],
      "metadata": {
        "id": "majCWgBHfFtS"
      },
      "execution_count": 28,
      "outputs": []
    },
    {
      "cell_type": "code",
      "source": [
        "train_scaled"
      ],
      "metadata": {
        "colab": {
          "base_uri": "https://localhost:8080/"
        },
        "id": "FZIWaD3wXnak",
        "outputId": "a58f2c4b-810b-4c37-eb3c-d8cd8a76d4c4"
      },
      "execution_count": 29,
      "outputs": [
        {
          "output_type": "execute_result",
          "data": {
            "text/plain": [
              "array([[1.13566675e-04],\n",
              "       [3.58870693e-04],\n",
              "       [4.54266700e-05],\n",
              "       ...,\n",
              "       [7.72139823e-01],\n",
              "       [7.68451178e-01],\n",
              "       [7.66288868e-01]])"
            ]
          },
          "metadata": {},
          "execution_count": 29
        }
      ]
    },
    {
      "cell_type": "code",
      "source": [
        "#Se crea el Modelo LSTM\n",
        "model = Sequential([\n",
        "    LSTM(100, input_shape=(X_train.shape[1], X_train.shape[2]), return_sequences=True),  #return_sequences=True Devuelve salidas para cada paso (necesario para apilar LSTM)\n",
        "    Dropout(0.2), #evita el sobreajuste , apaga aleatoriamete el 20% de las neuronas durante el entrenamiento#\n",
        "    LSTM(100, return_sequences=False), #return sequences = False nos da la salid final y no toda la secuencia\n",
        "    Dense(1) #capa final densa\n",
        "])\n",
        "model.compile(optimizer=Adam(learning_rate=0.01), loss='mean_squared_error')"
      ],
      "metadata": {
        "id": "kY1tSaFZfPmL",
        "colab": {
          "base_uri": "https://localhost:8080/"
        },
        "outputId": "8bc627b6-30d3-45ed-f0c5-81c4ee32693e"
      },
      "execution_count": 30,
      "outputs": [
        {
          "output_type": "stream",
          "name": "stderr",
          "text": [
            "/usr/local/lib/python3.11/dist-packages/keras/src/layers/rnn/rnn.py:200: UserWarning: Do not pass an `input_shape`/`input_dim` argument to a layer. When using Sequential models, prefer using an `Input(shape)` object as the first layer in the model instead.\n",
            "  super().__init__(**kwargs)\n"
          ]
        }
      ]
    },
    {
      "cell_type": "code",
      "source": [
        "model.summary()"
      ],
      "metadata": {
        "colab": {
          "base_uri": "https://localhost:8080/",
          "height": 272
        },
        "id": "kTLXxN9zp5bd",
        "outputId": "cc1bb73b-4637-4f62-9c53-5dfae7658127"
      },
      "execution_count": 31,
      "outputs": [
        {
          "output_type": "display_data",
          "data": {
            "text/plain": [
              "\u001b[1mModel: \"sequential_1\"\u001b[0m\n"
            ],
            "text/html": [
              "<pre style=\"white-space:pre;overflow-x:auto;line-height:normal;font-family:Menlo,'DejaVu Sans Mono',consolas,'Courier New',monospace\"><span style=\"font-weight: bold\">Model: \"sequential_1\"</span>\n",
              "</pre>\n"
            ]
          },
          "metadata": {}
        },
        {
          "output_type": "display_data",
          "data": {
            "text/plain": [
              "┏━━━━━━━━━━━━━━━━━━━━━━━━━━━━━━━━━┳━━━━━━━━━━━━━━━━━━━━━━━━┳━━━━━━━━━━━━━━━┓\n",
              "┃\u001b[1m \u001b[0m\u001b[1mLayer (type)                   \u001b[0m\u001b[1m \u001b[0m┃\u001b[1m \u001b[0m\u001b[1mOutput Shape          \u001b[0m\u001b[1m \u001b[0m┃\u001b[1m \u001b[0m\u001b[1m      Param #\u001b[0m\u001b[1m \u001b[0m┃\n",
              "┡━━━━━━━━━━━━━━━━━━━━━━━━━━━━━━━━━╇━━━━━━━━━━━━━━━━━━━━━━━━╇━━━━━━━━━━━━━━━┩\n",
              "│ lstm_2 (\u001b[38;5;33mLSTM\u001b[0m)                   │ (\u001b[38;5;45mNone\u001b[0m, \u001b[38;5;34m60\u001b[0m, \u001b[38;5;34m100\u001b[0m)        │        \u001b[38;5;34m40,800\u001b[0m │\n",
              "├─────────────────────────────────┼────────────────────────┼───────────────┤\n",
              "│ dropout_1 (\u001b[38;5;33mDropout\u001b[0m)             │ (\u001b[38;5;45mNone\u001b[0m, \u001b[38;5;34m60\u001b[0m, \u001b[38;5;34m100\u001b[0m)        │             \u001b[38;5;34m0\u001b[0m │\n",
              "├─────────────────────────────────┼────────────────────────┼───────────────┤\n",
              "│ lstm_3 (\u001b[38;5;33mLSTM\u001b[0m)                   │ (\u001b[38;5;45mNone\u001b[0m, \u001b[38;5;34m100\u001b[0m)            │        \u001b[38;5;34m80,400\u001b[0m │\n",
              "├─────────────────────────────────┼────────────────────────┼───────────────┤\n",
              "│ dense_1 (\u001b[38;5;33mDense\u001b[0m)                 │ (\u001b[38;5;45mNone\u001b[0m, \u001b[38;5;34m1\u001b[0m)              │           \u001b[38;5;34m101\u001b[0m │\n",
              "└─────────────────────────────────┴────────────────────────┴───────────────┘\n"
            ],
            "text/html": [
              "<pre style=\"white-space:pre;overflow-x:auto;line-height:normal;font-family:Menlo,'DejaVu Sans Mono',consolas,'Courier New',monospace\">┏━━━━━━━━━━━━━━━━━━━━━━━━━━━━━━━━━┳━━━━━━━━━━━━━━━━━━━━━━━━┳━━━━━━━━━━━━━━━┓\n",
              "┃<span style=\"font-weight: bold\"> Layer (type)                    </span>┃<span style=\"font-weight: bold\"> Output Shape           </span>┃<span style=\"font-weight: bold\">       Param # </span>┃\n",
              "┡━━━━━━━━━━━━━━━━━━━━━━━━━━━━━━━━━╇━━━━━━━━━━━━━━━━━━━━━━━━╇━━━━━━━━━━━━━━━┩\n",
              "│ lstm_2 (<span style=\"color: #0087ff; text-decoration-color: #0087ff\">LSTM</span>)                   │ (<span style=\"color: #00d7ff; text-decoration-color: #00d7ff\">None</span>, <span style=\"color: #00af00; text-decoration-color: #00af00\">60</span>, <span style=\"color: #00af00; text-decoration-color: #00af00\">100</span>)        │        <span style=\"color: #00af00; text-decoration-color: #00af00\">40,800</span> │\n",
              "├─────────────────────────────────┼────────────────────────┼───────────────┤\n",
              "│ dropout_1 (<span style=\"color: #0087ff; text-decoration-color: #0087ff\">Dropout</span>)             │ (<span style=\"color: #00d7ff; text-decoration-color: #00d7ff\">None</span>, <span style=\"color: #00af00; text-decoration-color: #00af00\">60</span>, <span style=\"color: #00af00; text-decoration-color: #00af00\">100</span>)        │             <span style=\"color: #00af00; text-decoration-color: #00af00\">0</span> │\n",
              "├─────────────────────────────────┼────────────────────────┼───────────────┤\n",
              "│ lstm_3 (<span style=\"color: #0087ff; text-decoration-color: #0087ff\">LSTM</span>)                   │ (<span style=\"color: #00d7ff; text-decoration-color: #00d7ff\">None</span>, <span style=\"color: #00af00; text-decoration-color: #00af00\">100</span>)            │        <span style=\"color: #00af00; text-decoration-color: #00af00\">80,400</span> │\n",
              "├─────────────────────────────────┼────────────────────────┼───────────────┤\n",
              "│ dense_1 (<span style=\"color: #0087ff; text-decoration-color: #0087ff\">Dense</span>)                 │ (<span style=\"color: #00d7ff; text-decoration-color: #00d7ff\">None</span>, <span style=\"color: #00af00; text-decoration-color: #00af00\">1</span>)              │           <span style=\"color: #00af00; text-decoration-color: #00af00\">101</span> │\n",
              "└─────────────────────────────────┴────────────────────────┴───────────────┘\n",
              "</pre>\n"
            ]
          },
          "metadata": {}
        },
        {
          "output_type": "display_data",
          "data": {
            "text/plain": [
              "\u001b[1m Total params: \u001b[0m\u001b[38;5;34m121,301\u001b[0m (473.83 KB)\n"
            ],
            "text/html": [
              "<pre style=\"white-space:pre;overflow-x:auto;line-height:normal;font-family:Menlo,'DejaVu Sans Mono',consolas,'Courier New',monospace\"><span style=\"font-weight: bold\"> Total params: </span><span style=\"color: #00af00; text-decoration-color: #00af00\">121,301</span> (473.83 KB)\n",
              "</pre>\n"
            ]
          },
          "metadata": {}
        },
        {
          "output_type": "display_data",
          "data": {
            "text/plain": [
              "\u001b[1m Trainable params: \u001b[0m\u001b[38;5;34m121,301\u001b[0m (473.83 KB)\n"
            ],
            "text/html": [
              "<pre style=\"white-space:pre;overflow-x:auto;line-height:normal;font-family:Menlo,'DejaVu Sans Mono',consolas,'Courier New',monospace\"><span style=\"font-weight: bold\"> Trainable params: </span><span style=\"color: #00af00; text-decoration-color: #00af00\">121,301</span> (473.83 KB)\n",
              "</pre>\n"
            ]
          },
          "metadata": {}
        },
        {
          "output_type": "display_data",
          "data": {
            "text/plain": [
              "\u001b[1m Non-trainable params: \u001b[0m\u001b[38;5;34m0\u001b[0m (0.00 B)\n"
            ],
            "text/html": [
              "<pre style=\"white-space:pre;overflow-x:auto;line-height:normal;font-family:Menlo,'DejaVu Sans Mono',consolas,'Courier New',monospace\"><span style=\"font-weight: bold\"> Non-trainable params: </span><span style=\"color: #00af00; text-decoration-color: #00af00\">0</span> (0.00 B)\n",
              "</pre>\n"
            ]
          },
          "metadata": {}
        }
      ]
    },
    {
      "cell_type": "code",
      "source": [
        "# Entrenar el modelo\n",
        "model.fit(X_train, y_train, epochs=50, batch_size=32, verbose=1)"
      ],
      "metadata": {
        "colab": {
          "base_uri": "https://localhost:8080/"
        },
        "id": "6nzOt7EFqlv3",
        "outputId": "0b3a80d7-8817-44aa-cfc0-c977319d7666"
      },
      "execution_count": 32,
      "outputs": [
        {
          "output_type": "stream",
          "name": "stdout",
          "text": [
            "Epoch 1/50\n",
            "\u001b[1m245/245\u001b[0m \u001b[32m━━━━━━━━━━━━━━━━━━━━\u001b[0m\u001b[37m\u001b[0m \u001b[1m27s\u001b[0m 95ms/step - loss: 0.0314\n",
            "Epoch 2/50\n",
            "\u001b[1m245/245\u001b[0m \u001b[32m━━━━━━━━━━━━━━━━━━━━\u001b[0m\u001b[37m\u001b[0m \u001b[1m22s\u001b[0m 91ms/step - loss: 2.1331e-04\n",
            "Epoch 3/50\n",
            "\u001b[1m245/245\u001b[0m \u001b[32m━━━━━━━━━━━━━━━━━━━━\u001b[0m\u001b[37m\u001b[0m \u001b[1m42s\u001b[0m 96ms/step - loss: 2.4202e-04\n",
            "Epoch 4/50\n",
            "\u001b[1m245/245\u001b[0m \u001b[32m━━━━━━━━━━━━━━━━━━━━\u001b[0m\u001b[37m\u001b[0m \u001b[1m40s\u001b[0m 94ms/step - loss: 1.6292e-04\n",
            "Epoch 5/50\n",
            "\u001b[1m245/245\u001b[0m \u001b[32m━━━━━━━━━━━━━━━━━━━━\u001b[0m\u001b[37m\u001b[0m \u001b[1m41s\u001b[0m 95ms/step - loss: 1.7589e-04\n",
            "Epoch 6/50\n",
            "\u001b[1m245/245\u001b[0m \u001b[32m━━━━━━━━━━━━━━━━━━━━\u001b[0m\u001b[37m\u001b[0m \u001b[1m41s\u001b[0m 95ms/step - loss: 1.8781e-04\n",
            "Epoch 7/50\n",
            "\u001b[1m245/245\u001b[0m \u001b[32m━━━━━━━━━━━━━━━━━━━━\u001b[0m\u001b[37m\u001b[0m \u001b[1m43s\u001b[0m 102ms/step - loss: 1.8895e-04\n",
            "Epoch 8/50\n",
            "\u001b[1m245/245\u001b[0m \u001b[32m━━━━━━━━━━━━━━━━━━━━\u001b[0m\u001b[37m\u001b[0m \u001b[1m39s\u001b[0m 95ms/step - loss: 1.7861e-04\n",
            "Epoch 9/50\n",
            "\u001b[1m245/245\u001b[0m \u001b[32m━━━━━━━━━━━━━━━━━━━━\u001b[0m\u001b[37m\u001b[0m \u001b[1m22s\u001b[0m 89ms/step - loss: 1.7623e-04\n",
            "Epoch 10/50\n",
            "\u001b[1m245/245\u001b[0m \u001b[32m━━━━━━━━━━━━━━━━━━━━\u001b[0m\u001b[37m\u001b[0m \u001b[1m41s\u001b[0m 88ms/step - loss: 1.7929e-04\n",
            "Epoch 11/50\n",
            "\u001b[1m245/245\u001b[0m \u001b[32m━━━━━━━━━━━━━━━━━━━━\u001b[0m\u001b[37m\u001b[0m \u001b[1m44s\u001b[0m 100ms/step - loss: 1.6154e-04\n",
            "Epoch 12/50\n",
            "\u001b[1m245/245\u001b[0m \u001b[32m━━━━━━━━━━━━━━━━━━━━\u001b[0m\u001b[37m\u001b[0m \u001b[1m38s\u001b[0m 88ms/step - loss: 1.3121e-04\n",
            "Epoch 13/50\n",
            "\u001b[1m245/245\u001b[0m \u001b[32m━━━━━━━━━━━━━━━━━━━━\u001b[0m\u001b[37m\u001b[0m \u001b[1m42s\u001b[0m 93ms/step - loss: 1.5687e-04\n",
            "Epoch 14/50\n",
            "\u001b[1m245/245\u001b[0m \u001b[32m━━━━━━━━━━━━━━━━━━━━\u001b[0m\u001b[37m\u001b[0m \u001b[1m41s\u001b[0m 95ms/step - loss: 1.4367e-04\n",
            "Epoch 15/50\n",
            "\u001b[1m245/245\u001b[0m \u001b[32m━━━━━━━━━━━━━━━━━━━━\u001b[0m\u001b[37m\u001b[0m \u001b[1m42s\u001b[0m 100ms/step - loss: 2.1672e-04\n",
            "Epoch 16/50\n",
            "\u001b[1m245/245\u001b[0m \u001b[32m━━━━━━━━━━━━━━━━━━━━\u001b[0m\u001b[37m\u001b[0m \u001b[1m38s\u001b[0m 89ms/step - loss: 1.4036e-04\n",
            "Epoch 17/50\n",
            "\u001b[1m245/245\u001b[0m \u001b[32m━━━━━━━━━━━━━━━━━━━━\u001b[0m\u001b[37m\u001b[0m \u001b[1m42s\u001b[0m 94ms/step - loss: 1.5571e-04\n",
            "Epoch 18/50\n",
            "\u001b[1m245/245\u001b[0m \u001b[32m━━━━━━━━━━━━━━━━━━━━\u001b[0m\u001b[37m\u001b[0m \u001b[1m22s\u001b[0m 89ms/step - loss: 2.1882e-04\n",
            "Epoch 19/50\n",
            "\u001b[1m245/245\u001b[0m \u001b[32m━━━━━━━━━━━━━━━━━━━━\u001b[0m\u001b[37m\u001b[0m \u001b[1m43s\u001b[0m 97ms/step - loss: 1.0689e-04\n",
            "Epoch 20/50\n",
            "\u001b[1m245/245\u001b[0m \u001b[32m━━━━━━━━━━━━━━━━━━━━\u001b[0m\u001b[37m\u001b[0m \u001b[1m39s\u001b[0m 89ms/step - loss: 1.2806e-04\n",
            "Epoch 21/50\n",
            "\u001b[1m245/245\u001b[0m \u001b[32m━━━━━━━━━━━━━━━━━━━━\u001b[0m\u001b[37m\u001b[0m \u001b[1m23s\u001b[0m 94ms/step - loss: 1.3019e-04\n",
            "Epoch 22/50\n",
            "\u001b[1m245/245\u001b[0m \u001b[32m━━━━━━━━━━━━━━━━━━━━\u001b[0m\u001b[37m\u001b[0m \u001b[1m41s\u001b[0m 92ms/step - loss: 1.0543e-04\n",
            "Epoch 23/50\n",
            "\u001b[1m245/245\u001b[0m \u001b[32m━━━━━━━━━━━━━━━━━━━━\u001b[0m\u001b[37m\u001b[0m \u001b[1m40s\u001b[0m 89ms/step - loss: 1.2877e-04\n",
            "Epoch 24/50\n",
            "\u001b[1m245/245\u001b[0m \u001b[32m━━━━━━━━━━━━━━━━━━━━\u001b[0m\u001b[37m\u001b[0m \u001b[1m28s\u001b[0m 115ms/step - loss: 2.6341e-04\n",
            "Epoch 25/50\n",
            "\u001b[1m245/245\u001b[0m \u001b[32m━━━━━━━━━━━━━━━━━━━━\u001b[0m\u001b[37m\u001b[0m \u001b[1m23s\u001b[0m 92ms/step - loss: 9.7360e-05\n",
            "Epoch 26/50\n",
            "\u001b[1m245/245\u001b[0m \u001b[32m━━━━━━━━━━━━━━━━━━━━\u001b[0m\u001b[37m\u001b[0m \u001b[1m42s\u001b[0m 95ms/step - loss: 1.1058e-04\n",
            "Epoch 27/50\n",
            "\u001b[1m245/245\u001b[0m \u001b[32m━━━━━━━━━━━━━━━━━━━━\u001b[0m\u001b[37m\u001b[0m \u001b[1m42s\u001b[0m 99ms/step - loss: 1.2057e-04\n",
            "Epoch 28/50\n",
            "\u001b[1m245/245\u001b[0m \u001b[32m━━━━━━━━━━━━━━━━━━━━\u001b[0m\u001b[37m\u001b[0m \u001b[1m24s\u001b[0m 98ms/step - loss: 1.4898e-04\n",
            "Epoch 29/50\n",
            "\u001b[1m245/245\u001b[0m \u001b[32m━━━━━━━━━━━━━━━━━━━━\u001b[0m\u001b[37m\u001b[0m \u001b[1m23s\u001b[0m 94ms/step - loss: 1.3711e-04\n",
            "Epoch 30/50\n",
            "\u001b[1m245/245\u001b[0m \u001b[32m━━━━━━━━━━━━━━━━━━━━\u001b[0m\u001b[37m\u001b[0m \u001b[1m41s\u001b[0m 93ms/step - loss: 1.0577e-04\n",
            "Epoch 31/50\n",
            "\u001b[1m245/245\u001b[0m \u001b[32m━━━━━━━━━━━━━━━━━━━━\u001b[0m\u001b[37m\u001b[0m \u001b[1m40s\u001b[0m 91ms/step - loss: 1.2734e-04\n",
            "Epoch 32/50\n",
            "\u001b[1m245/245\u001b[0m \u001b[32m━━━━━━━━━━━━━━━━━━━━\u001b[0m\u001b[37m\u001b[0m \u001b[1m41s\u001b[0m 93ms/step - loss: 1.4423e-04\n",
            "Epoch 33/50\n",
            "\u001b[1m245/245\u001b[0m \u001b[32m━━━━━━━━━━━━━━━━━━━━\u001b[0m\u001b[37m\u001b[0m \u001b[1m40s\u001b[0m 90ms/step - loss: 8.2907e-05\n",
            "Epoch 34/50\n",
            "\u001b[1m245/245\u001b[0m \u001b[32m━━━━━━━━━━━━━━━━━━━━\u001b[0m\u001b[37m\u001b[0m \u001b[1m41s\u001b[0m 90ms/step - loss: 1.3847e-04\n",
            "Epoch 35/50\n",
            "\u001b[1m245/245\u001b[0m \u001b[32m━━━━━━━━━━━━━━━━━━━━\u001b[0m\u001b[37m\u001b[0m \u001b[1m42s\u001b[0m 95ms/step - loss: 1.1333e-04\n",
            "Epoch 36/50\n",
            "\u001b[1m245/245\u001b[0m \u001b[32m━━━━━━━━━━━━━━━━━━━━\u001b[0m\u001b[37m\u001b[0m \u001b[1m43s\u001b[0m 102ms/step - loss: 1.7886e-04\n",
            "Epoch 37/50\n",
            "\u001b[1m245/245\u001b[0m \u001b[32m━━━━━━━━━━━━━━━━━━━━\u001b[0m\u001b[37m\u001b[0m \u001b[1m22s\u001b[0m 90ms/step - loss: 2.7721e-04\n",
            "Epoch 38/50\n",
            "\u001b[1m245/245\u001b[0m \u001b[32m━━━━━━━━━━━━━━━━━━━━\u001b[0m\u001b[37m\u001b[0m \u001b[1m40s\u001b[0m 88ms/step - loss: 9.9426e-05\n",
            "Epoch 39/50\n",
            "\u001b[1m245/245\u001b[0m \u001b[32m━━━━━━━━━━━━━━━━━━━━\u001b[0m\u001b[37m\u001b[0m \u001b[1m41s\u001b[0m 87ms/step - loss: 9.4301e-05\n",
            "Epoch 40/50\n",
            "\u001b[1m245/245\u001b[0m \u001b[32m━━━━━━━━━━━━━━━━━━━━\u001b[0m\u001b[37m\u001b[0m \u001b[1m44s\u001b[0m 101ms/step - loss: 1.1870e-04\n",
            "Epoch 41/50\n",
            "\u001b[1m245/245\u001b[0m \u001b[32m━━━━━━━━━━━━━━━━━━━━\u001b[0m\u001b[37m\u001b[0m \u001b[1m39s\u001b[0m 93ms/step - loss: 8.7760e-05\n",
            "Epoch 42/50\n",
            "\u001b[1m245/245\u001b[0m \u001b[32m━━━━━━━━━━━━━━━━━━━━\u001b[0m\u001b[37m\u001b[0m \u001b[1m41s\u001b[0m 94ms/step - loss: 8.0084e-05\n",
            "Epoch 43/50\n",
            "\u001b[1m245/245\u001b[0m \u001b[32m━━━━━━━━━━━━━━━━━━━━\u001b[0m\u001b[37m\u001b[0m \u001b[1m41s\u001b[0m 94ms/step - loss: 1.9887e-04\n",
            "Epoch 44/50\n",
            "\u001b[1m245/245\u001b[0m \u001b[32m━━━━━━━━━━━━━━━━━━━━\u001b[0m\u001b[37m\u001b[0m \u001b[1m23s\u001b[0m 95ms/step - loss: 1.7271e-04\n",
            "Epoch 45/50\n",
            "\u001b[1m245/245\u001b[0m \u001b[32m━━━━━━━━━━━━━━━━━━━━\u001b[0m\u001b[37m\u001b[0m \u001b[1m23s\u001b[0m 94ms/step - loss: 7.8993e-05\n",
            "Epoch 46/50\n",
            "\u001b[1m245/245\u001b[0m \u001b[32m━━━━━━━━━━━━━━━━━━━━\u001b[0m\u001b[37m\u001b[0m \u001b[1m41s\u001b[0m 95ms/step - loss: 6.5442e-05\n",
            "Epoch 47/50\n",
            "\u001b[1m245/245\u001b[0m \u001b[32m━━━━━━━━━━━━━━━━━━━━\u001b[0m\u001b[37m\u001b[0m \u001b[1m41s\u001b[0m 95ms/step - loss: 9.3956e-05\n",
            "Epoch 48/50\n",
            "\u001b[1m245/245\u001b[0m \u001b[32m━━━━━━━━━━━━━━━━━━━━\u001b[0m\u001b[37m\u001b[0m \u001b[1m23s\u001b[0m 93ms/step - loss: 8.8487e-05\n",
            "Epoch 49/50\n",
            "\u001b[1m245/245\u001b[0m \u001b[32m━━━━━━━━━━━━━━━━━━━━\u001b[0m\u001b[37m\u001b[0m \u001b[1m42s\u001b[0m 99ms/step - loss: 1.0631e-04\n",
            "Epoch 50/50\n",
            "\u001b[1m245/245\u001b[0m \u001b[32m━━━━━━━━━━━━━━━━━━━━\u001b[0m\u001b[37m\u001b[0m \u001b[1m40s\u001b[0m 96ms/step - loss: 8.0456e-05\n"
          ]
        },
        {
          "output_type": "execute_result",
          "data": {
            "text/plain": [
              "<keras.src.callbacks.history.History at 0x7bd4f6864510>"
            ]
          },
          "metadata": {},
          "execution_count": 32
        }
      ]
    },
    {
      "cell_type": "code",
      "source": [
        "real_data_20245= pd.read_csv('/content/drive/MyDrive/Colab Notebooks/Diplomado_Análisis de datos /Consulta_2025.csv', index_col='Fecha', parse_dates=True)\n",
        "imputer = SimpleImputer(strategy='mean')\n",
        "real_data_20245=real_data_20245['Tipo de cambio' ]\n",
        "real_data_20245a = pd.DataFrame(imputer.fit_transform(real_data_20245.values.reshape(-1, 1)), columns=['Tipo de cambio'], index=real_data_20245.index)\n",
        "real_scaled = scaler.transform(real_data_20245.values.reshape(-1, 1))\n"
      ],
      "metadata": {
        "colab": {
          "base_uri": "https://localhost:8080/"
        },
        "id": "HuzrkbPpk5YN",
        "outputId": "782bb064-0ad0-4f8b-db56-552b615eb03c"
      },
      "execution_count": 79,
      "outputs": [
        {
          "output_type": "stream",
          "name": "stderr",
          "text": [
            "/usr/local/lib/python3.11/dist-packages/sklearn/utils/validation.py:2739: UserWarning:\n",
            "\n",
            "X does not have valid feature names, but MinMaxScaler was fitted with feature names\n",
            "\n"
          ]
        }
      ]
    },
    {
      "cell_type": "code",
      "source": [
        "real_scaled"
      ],
      "metadata": {
        "colab": {
          "base_uri": "https://localhost:8080/"
        },
        "id": "NB-ViCh7x3Pn",
        "outputId": "7133bbb7-a6f7-4f9c-f246-37015995ded3"
      },
      "execution_count": 80,
      "outputs": [
        {
          "output_type": "execute_result",
          "data": {
            "text/plain": [
              "array([[0.63343857],\n",
              "       [0.63328412],\n",
              "       [0.62660186],\n",
              "       [0.62272242],\n",
              "       [0.62823722],\n",
              "       [0.63080382],\n",
              "       [0.63074023],\n",
              "       [0.62475299],\n",
              "       [0.62658369],\n",
              "       [0.63846276],\n",
              "       [0.64463625],\n",
              "       [0.6402662 ],\n",
              "       [0.63722261],\n",
              "       [0.63631408],\n",
              "       [0.64719377],\n",
              "       [0.63880346],\n",
              "       [0.64199241],\n",
              "       [0.63873078],\n",
              "       [0.64180162],\n",
              "       [0.63998001],\n",
              "       [0.63862175],\n",
              "       [0.63726804],\n",
              "       [0.63777682],\n",
              "       [0.63282531],\n",
              "       [0.63301156],\n",
              "       [0.63585073],\n",
              "       [0.63508756],\n",
              "       [0.63429259],\n",
              "       [0.64020715],\n",
              "       [0.63622323],\n",
              "       [0.63429259],\n",
              "       [0.63393827],\n",
              "       [0.63347491],\n",
              "       [0.63328412],\n",
              "       [0.63394281],\n",
              "       [0.63670021],\n",
              "       [0.63692734],\n",
              "       [0.63692734],\n",
              "       [0.63395189],\n",
              "       [0.63557363],\n",
              "       [0.63407909],\n",
              "       [0.63218934],\n",
              "       [0.63042224],\n",
              "       [0.62782838],\n",
              "       [0.62542531],\n",
              "       [0.6256161 ],\n",
              "       [0.62205011],\n",
              "       [0.62249529],\n",
              "       [0.62335385],\n",
              "       [0.6181525 ],\n",
              "       [0.61721217],\n",
              "       [0.61802985],\n",
              "       [0.62449406],\n",
              "       [0.62025575],\n",
              "       [0.62039203],\n",
              "       [0.61924274],\n",
              "       [0.61772094],\n",
              "       [0.61657619],\n",
              "       [0.60995753],\n",
              "       [0.61565857],\n",
              "       [0.61154746],\n",
              "       [0.61037545],\n",
              "       [0.60927613],\n",
              "       [0.60739092],\n",
              "       [0.60102664],\n",
              "       [0.60363868],\n",
              "       [0.60795875],\n",
              "       [0.60659595],\n",
              "       [0.61618098],\n",
              "       [0.61673519],\n",
              "       [0.63234833],\n",
              "       [0.63096736],\n",
              "       [0.63640493],\n",
              "       [0.64083403],\n",
              "       [0.63685011],\n",
              "       [0.63118087],\n",
              "       [0.63619143],\n",
              "       [0.63975742],\n",
              "       [0.6382538 ],\n",
              "       [0.63230745],\n",
              "       [0.63555545],\n",
              "       [0.62844618],\n",
              "       [0.63139437],\n",
              "       [0.62642015],\n",
              "       [0.62703795],\n",
              "       [0.62705612],\n",
              "       [0.62511641],\n",
              "       [0.62071002],\n",
              "       [0.62244532],\n",
              "       [0.62420787],\n",
              "       [0.61658528],\n",
              "       [0.61708951],\n",
              "       [0.61401867],\n",
              "       [0.61152475],\n",
              "       [0.6136598 ],\n",
              "       [0.61487269],\n",
              "       [0.61732573],\n",
              "       [0.61768006],\n",
              "       [0.61561315],\n",
              "       [0.61965158],\n",
              "       [0.62893225],\n",
              "       [0.6283735 ],\n",
              "       [0.63200763],\n",
              "       [0.659995  ],\n",
              "       [0.67030231],\n",
              "       [0.65660617],\n",
              "       [0.65543871],\n",
              "       [0.68854112],\n",
              "       [0.69411043],\n",
              "       [0.69687692],\n",
              "       [0.71220842],\n",
              "       [0.70109251],\n",
              "       [0.69712676],\n",
              "       [0.70047017],\n",
              "       [0.69538238],\n",
              "       [0.69584573],\n",
              "       [0.69492357],\n",
              "       [0.6850251 ],\n",
              "       [0.67493583],\n",
              "       [0.68286279],\n",
              "       [0.68669226],\n",
              "       [0.69376973],\n",
              "       [0.68788698],\n",
              "       [0.69433302],\n",
              "       [0.68791878],\n",
              "       [0.68278556],\n",
              "       [0.68098212],\n",
              "       [0.68106844],\n",
              "       [0.6770618 ],\n",
              "       [0.67403184],\n",
              "       [0.6688532 ],\n",
              "       [0.66841711],\n",
              "       [0.66074   ],\n",
              "       [0.66680446],\n",
              "       [0.662071  ],\n",
              "       [0.66499194],\n",
              "       [0.67166511],\n",
              "       [0.67649397],\n",
              "       [0.67257365],\n",
              "       [0.68111386],\n",
              "       [0.69233879],\n",
              "       [0.69411952],\n",
              "       [0.69695868],\n",
              "       [0.70760215],\n",
              "       [0.71251732],\n",
              "       [0.70374997],\n",
              "       [0.70870148],\n",
              "       [0.72406478],\n",
              "       [0.73979603],\n",
              "       [0.73704772],\n",
              "       [0.73064256],\n",
              "       [0.72614532],\n",
              "       [0.71464329],\n",
              "       [0.72351057],\n",
              "       [0.72381493],\n",
              "       [0.71514298],\n",
              "       [0.70621664],\n",
              "       [0.70492198],\n",
              "       [0.71005065],\n",
              "       [0.71954937],\n",
              "       [0.73357258],\n",
              "       [0.74129511],\n",
              "       [0.72527313],\n",
              "       [0.73940991],\n",
              "       [0.75245645],\n",
              "       [0.749481  ],\n",
              "       [0.75916142],\n",
              "       [0.75174325],\n",
              "       [0.7583074 ],\n",
              "       [0.75992005],\n",
              "       [0.76048788],\n",
              "       [0.76761078],\n",
              "       [0.76826493],\n",
              "       [0.7620233 ],\n",
              "       [0.77013196],\n",
              "       [0.7601699 ],\n",
              "       [0.7487996 ],\n",
              "       [0.73333636],\n",
              "       [0.73418584],\n",
              "       [0.73583483],\n",
              "       [0.73465374],\n",
              "       [0.73897835],\n",
              "       [0.74090899],\n",
              "       [0.7382379 ],\n",
              "       [0.74872237],\n",
              "       [0.7506303 ],\n",
              "       [0.75247916],\n",
              "       [0.7513117 ],\n",
              "       [0.73970518],\n",
              "       [0.74330752],\n",
              "       [0.73171917],\n",
              "       [0.73744748],\n",
              "       [0.73810162],\n",
              "       [0.74102255],\n",
              "       [0.74528358],\n",
              "       [0.74015036],\n",
              "       [0.73759284],\n",
              "       [0.75022146],\n",
              "       [0.76260022],\n",
              "       [0.76436278],\n",
              "       [0.75987462],\n",
              "       [0.76782429],\n",
              "       [0.76287278],\n",
              "       [0.76447634],\n",
              "       [0.76014718],\n",
              "       [0.76431735],\n",
              "       [0.76751539],\n",
              "       [0.76842846],\n",
              "       [0.77482908],\n",
              "       [0.76920072],\n",
              "       [0.77160833],\n",
              "       [0.76915075],\n",
              "       [0.77972608],\n",
              "       [0.78153406],\n",
              "       [0.75965657],\n",
              "       [0.77353442],\n",
              "       [0.78793468],\n",
              "       [0.79334499],\n",
              "       [0.79485316],\n",
              "       [0.78992436],\n",
              "       [0.78514094],\n",
              "       [0.77587844],\n",
              "       [0.78067095],\n",
              "       [0.78463216],\n",
              "       [0.78961546],\n",
              "       [0.78107979],\n",
              "       [0.80012265],\n",
              "       [0.79663843],\n",
              "       [0.78644014],\n",
              "       [0.78207464],\n",
              "       [0.78727599],\n",
              "       [0.78217003],\n",
              "       [0.78033934],\n",
              "       [0.77640084],\n",
              "       [0.77781816],\n",
              "       [0.7745111 ],\n",
              "       [0.77877212],\n",
              "       [0.77496536],\n",
              "       [0.77393418],\n",
              "       [0.77406137],\n",
              "       [0.77821791],\n",
              "       [0.77382061],\n",
              "       [0.78748041],\n",
              "       [0.77218525],\n",
              "       [0.7763327 ],\n",
              "       [0.77456106],\n",
              "       [0.77501079],\n",
              "       [0.77967157],\n",
              "       [0.79066482],\n",
              "       [0.80319804],\n",
              "       [0.79890522],\n",
              "       [0.7979558 ],\n",
              "       [0.78199741],\n",
              "       [0.78311036],\n",
              "       [0.78485021],\n",
              "       [0.78902492],\n",
              "       [0.79948668],\n",
              "       [0.80387944],\n",
              "       [0.78937924],\n",
              "       [0.78962909],\n",
              "       [0.80260749],\n",
              "       [0.80009994],\n",
              "       [0.79215027],\n",
              "       [0.79636587],\n",
              "       [0.79200036],\n",
              "       [0.78539533],\n",
              "       [0.7777273 ],\n",
              "       [0.79929134],\n",
              "       [0.79323143],\n",
              "       [0.79327231],\n",
              "       [0.78791196],\n",
              "       [0.79504849],\n",
              "       [0.78687169],\n",
              "       [0.79638858],\n",
              "       [0.79076476],\n",
              "       [0.79252277],\n",
              "       [0.79788766],\n",
              "       [0.79328594],\n",
              "       [0.78981988],\n",
              "       [0.79009699],\n",
              "       [0.78148409],\n",
              "       [0.78033934],\n",
              "       [0.77937175],\n",
              "       [0.78659913],\n",
              "       [0.78444137],\n",
              "       [0.78314671],\n",
              "       [0.78856156],\n",
              "       [0.7887569 ],\n",
              "       [0.78691258],\n",
              "       [0.78893406],\n",
              "       [0.79056034],\n",
              "       [0.78716697],\n",
              "       [0.80617803],\n",
              "       [0.78516819],\n",
              "       [0.78009858],\n",
              "       [0.78033934],\n",
              "       [0.78075726],\n",
              "       [0.78287415],\n",
              "       [0.77578758],\n",
              "       [0.77133577],\n",
              "       [0.76154632],\n",
              "       [0.76677948],\n",
              "       [0.76999568],\n",
              "       [0.77359348],\n",
              "       [0.77730938],\n",
              "       [0.772585  ],\n",
              "       [0.7709451 ],\n",
              "       [0.77185818],\n",
              "       [0.78193836],\n",
              "       [0.78566789],\n",
              "       [0.78738047],\n",
              "       [0.78377814],\n",
              "       [0.78823449],\n",
              "       [0.76615713],\n",
              "       [0.79024235],\n",
              "       [0.7990415 ],\n",
              "       [0.79867808],\n",
              "       [0.80224862],\n",
              "       [0.78983351],\n",
              "       [0.78276058],\n",
              "       [0.77213982],\n",
              "       [0.76845118],\n",
              "       [0.76628887]])"
            ]
          },
          "metadata": {},
          "execution_count": 80
        }
      ]
    },
    {
      "cell_type": "code",
      "source": [
        "# Crear datos de entrada para predicción\n",
        "X_real, _ = create_dataset(np.vstack([train_scaled[-70:], real_scaled]), 70)\n",
        "\n",
        "# Predicciones\n",
        "predictions_scaled = model.predict(X_real)\n",
        "predictions = scaler.inverse_transform(np.concatenate([predictions_scaled, np.zeros((len(predictions_scaled), 2))], axis=1))[:, 0]\n",
        "\n",
        "# Datos reales para comparar\n",
        "real_valor = scaler.inverse_transform(real_scaled)[:, 0]"
      ],
      "metadata": {
        "id": "eLf9zQZp-t08",
        "colab": {
          "base_uri": "https://localhost:8080/"
        },
        "outputId": "695ccf68-3a25-4869-99b5-d0ccc09a5103"
      },
      "execution_count": 81,
      "outputs": [
        {
          "output_type": "stream",
          "name": "stdout",
          "text": [
            "\u001b[1m11/11\u001b[0m \u001b[32m━━━━━━━━━━━━━━━━━━━━\u001b[0m\u001b[37m\u001b[0m \u001b[1m1s\u001b[0m 33ms/step\n"
          ]
        }
      ]
    },
    {
      "cell_type": "code",
      "source": [
        "predictions"
      ],
      "metadata": {
        "colab": {
          "base_uri": "https://localhost:8080/"
        },
        "id": "vLXxI4O3vCfS",
        "outputId": "f494ab4e-6f44-4fec-80a5-d38c19aa9675"
      },
      "execution_count": 82,
      "outputs": [
        {
          "output_type": "execute_result",
          "data": {
            "text/plain": [
              "array([20.22682921, 18.59898747, 17.96604812, 17.85159566, 17.54910255,\n",
              "       17.52306248, 17.7310839 , 17.63242396, 17.43407802, 17.42733116,\n",
              "       17.49955871, 17.53781318, 17.49836076, 17.42295922, 17.36771296,\n",
              "       17.49991691, 17.44172366, 17.43208886, 17.4391703 , 17.46195635,\n",
              "       17.44466541, 17.43504635, 17.41679757, 17.41538574, 17.35422713,\n",
              "       17.33127707, 17.37967807, 17.38372723, 17.36384881, 17.45694279,\n",
              "       17.43619838, 17.36908149, 17.36799507, 17.36184129, 17.3381735 ,\n",
              "       17.35722267, 17.41028427, 17.42247637, 17.42541286, 17.39078768,\n",
              "       17.39174683, 17.37865725, 17.34070324, 17.30654648, 17.26385315,\n",
              "       17.21032444, 17.19822419, 17.14988879, 17.12827315, 17.14568743,\n",
              "       17.07222125, 17.01724791, 17.02982577, 17.11886928, 17.08435168,\n",
              "       17.06173227, 17.05735377, 17.01637799, 16.97907216, 16.88691896,\n",
              "       16.9253427 , 16.90299096, 16.85190408, 16.83635824, 16.80765853,\n",
              "       16.68905588, 16.6864684 , 16.77318161, 16.76196703, 16.88811036,\n",
              "       16.97754487, 17.1908777 , 17.26750343, 17.33877314, 17.4452821 ,\n",
              "       17.41731323, 17.3042083 , 17.3672944 , 17.46363978, 17.44946641,\n",
              "       17.3779907 , 17.41783676, 17.32723316, 17.31082395, 17.27740327,\n",
              "       17.24904471, 17.24505722, 17.22429444, 17.1397777 , 17.13411727,\n",
              "       17.17120791, 17.05593538, 17.01027013, 16.98392302, 16.9082945 ,\n",
              "       16.9119579 , 16.95610636, 16.98441375, 16.99832733, 16.97767215,\n",
              "       17.01543983, 17.17237568, 17.21689415, 17.26041411, 17.72611364,\n",
              "       18.05572144, 17.87689571, 17.8215576 , 18.35611387, 18.5753538 ,\n",
              "       18.61442178, 18.9703347 , 18.90807786, 18.72043608, 18.81918262,\n",
              "       18.77474418, 18.69544307, 18.74939428, 18.6239936 , 18.39181892,\n",
              "       18.47825527, 18.57796752, 18.64740684, 18.62892712, 18.70231064,\n",
              "       18.62012157, 18.4928892 , 18.44666761, 18.42923758, 18.3522484 ,\n",
              "       18.29695097, 18.21787816, 18.1686138 , 18.05489481, 18.09169547,\n",
              "       18.05639324, 18.05235064, 18.16799186, 18.27150922, 18.22061915,\n",
              "       18.32805053, 18.54869441, 18.60651634, 18.65833537, 18.86580177,\n",
              "       18.98413807, 18.87177186, 18.930116  , 19.20003213, 19.4829801 ,\n",
              "       19.53950566, 19.47925371, 19.39618948, 19.19619946, 19.24907606,\n",
              "       19.31945222, 19.18717873, 19.03641503, 19.00214017, 19.03535484,\n",
              "       19.17616753, 19.44512056, 19.62848356, 19.43518267, 19.55895239,\n",
              "       19.8293107 , 19.79645423, 19.92883925, 19.94519204, 19.95222099,\n",
              "       20.01641713, 20.06464756, 20.14921153, 20.21520263, 20.14323226,\n",
              "       20.22301098, 20.14122605, 19.91445594, 19.65900841, 19.59681586,\n",
              "       19.59278507, 19.57324649, 19.6470853 , 19.70340355, 19.65472438,\n",
              "       19.78553094, 19.86938506, 19.87197385, 19.87589574, 19.72259705,\n",
              "       19.6879653 , 19.5561025 , 19.56298712, 19.60830598, 19.65473226,\n",
              "       19.72888598, 19.69313762, 19.62275359, 19.78695589, 20.02472539,\n",
              "       20.09141454, 20.05989773, 20.17653091, 20.12916254, 20.10478491,\n",
              "       20.08656237, 20.12039373, 20.17712661, 20.22485187, 20.32593658,\n",
              "       20.28569557, 20.29001109, 20.27864169, 20.40385473, 20.48245124,\n",
              "       20.19579001, 20.28479022, 20.58089075, 20.67473001, 20.73598178,\n",
              "       20.74637891, 20.61916228, 20.44859364, 20.48970457, 20.55210575,\n",
              "       20.6259485 , 20.5655719 , 20.79987088, 20.84532751, 20.66433025,\n",
              "       20.57884911, 20.63804087, 20.54262578, 20.49603417, 20.47190059,\n",
              "       20.44659136, 20.39743722, 20.45609889, 20.41736287, 20.37042225,\n",
              "       20.38046118, 20.43150476, 20.37480075, 20.55174886, 20.42061427,\n",
              "       20.37241534, 20.39747133, 20.38003212, 20.42099216, 20.63462677,\n",
              "       20.86320497, 20.85518537, 20.84901585, 20.6390512 , 20.54038076,\n",
              "       20.57346685, 20.63389199, 20.79651714, 20.94630463, 20.76808772,\n",
              "       20.69775092, 20.90072729, 20.8907474 , 20.7512875 , 20.8316055 ,\n",
              "       20.77949387, 20.61798401, 20.51975707, 20.78600192, 20.77428874,\n",
              "       20.74175374, 20.72097652, 20.77145327, 20.66056712, 20.76854302,\n",
              "       20.75097129, 20.71795081, 20.82203368, 20.79516829, 20.69438537,\n",
              "       20.70723614, 20.59002826, 20.49745125, 20.50170772, 20.5922431 ,\n",
              "       20.57858931, 20.56634736, 20.64796171, 20.66154858, 20.62543415,\n",
              "       20.66106048, 20.69128092, 20.63573944, 20.89791282, 20.71560476,\n",
              "       20.50990577, 20.53155291, 20.51878348, 20.49544897, 20.46051807,\n",
              "       20.36968878, 20.18603712, 20.21623789, 20.28235495, 20.31933799,\n",
              "       20.40675449, 20.3759659 , 20.3062038 , 20.31601049, 20.45683761,\n",
              "       20.54187394, 20.59409842, 20.57509386, 20.614894  , 20.33003691,\n",
              "       20.54607793, 20.81710541, 20.81248023, 20.88980006, 20.79992074,\n",
              "       20.58077528, 20.40085919, 20.31406595])"
            ]
          },
          "metadata": {},
          "execution_count": 82
        }
      ]
    },
    {
      "cell_type": "code",
      "source": [
        "# Asegurarse de que tanto 'real_demand' como 'predictions' tienen el mismo índice de tiempo\n",
        "real_valor = pd.Series(real_valor[:len(predictions)], index=pd.to_datetime(real_data_20245.index[:len(predictions)], format='%d/%m/%Y'))\n",
        "predictions_series = pd.Series(predictions, index=pd.to_datetime(real_data_20245.index[:len(predictions)], format='%d/%m/%Y'))"
      ],
      "metadata": {
        "id": "4BHkDia6uVKe"
      },
      "execution_count": 83,
      "outputs": []
    },
    {
      "cell_type": "code",
      "source": [
        "# Graficar\n",
        "plt.figure(figsize=(14, 7))\n",
        "plt.plot(real_data_20245.index, real_valor, label='Datos Reales 2025 y 25', color='blue')\n",
        "plt.plot(real_data_20245.index[:len(predictions)], predictions, label='Predicciones 20224 y 2025', color='red')\n",
        "plt.title('Predicciones vs Datos Reales 2024 y 2025')\n",
        "plt.xlabel('Fecha')\n",
        "plt.ylabel('Estimación del valor del sólar en México')\n",
        "plt.legend()\n",
        "plt.grid(True)\n",
        "plt.show()"
      ],
      "metadata": {
        "colab": {
          "base_uri": "https://localhost:8080/",
          "height": 641
        },
        "id": "5j64tUe4yWVl",
        "outputId": "400f7169-d2a2-495d-9d8c-d124a9ba65f4"
      },
      "execution_count": 87,
      "outputs": [
        {
          "output_type": "display_data",
          "data": {
            "text/plain": [
              "<Figure size 1400x700 with 1 Axes>"
            ],
            "image/png": "[encoded data removed]"
          },
          "metadata": {}
        }
      ]
    },
    {
      "cell_type": "code",
      "source": [
        "# Crear una lista para almacenar los R-squared de cada mes\n",
        "r_squared_monthly = []"
      ],
      "metadata": {
        "id": "F4LNaF15wopV"
      },
      "execution_count": 85,
      "outputs": []
    },
    {
      "cell_type": "code",
      "source": [
        "#Asegurarse de que tanto 'real_demand' como 'predictions' tienen el mismo índice de tiempo\n",
        "# Convert 'real_data_2025.index' to DateTimeIndex\n",
        "real_data_20245.index = pd.to_datetime(real_data_20245.index, format='%d/%m/%Y')\n",
        "real_valor = pd.Series(real_valor[:len(predictions)], index=real_data_20245.index[:len(predictions)])\n",
        "predictions_series = pd.Series(predictions, index=real_data_20245.index[:len(predictions)])\n",
        "\n",
        "# Crear una lista para almacenar los R-squared de cada mes\n",
        "r_squared_monthly = []\n",
        "\n",
        "# Agrupar los datos por mes y calcular el R-squared para cada mes\n",
        "for month, group in real_valor.groupby(real_valor.index.to_series().dt.month): # Convert index to series and extract month\n",
        "    # Extraer las predicciones correspondientes para ese mes\n",
        "    pred_for_month = predictions_series[group.index]\n",
        "\n",
        "    # Eliminar los NaN de 'group' y 'pred_for_month' antes de calcular R-squared\n",
        "    group = group.dropna()\n",
        "    pred_for_month = pred_for_month[group.index]  # Asegurar que los índices coincidan después de eliminar NaN\n",
        "\n",
        "    # Calcular el R-squared solo si hay datos válidos\n",
        "    if len(group) > 0 and len(pred_for_month) > 0:\n",
        "        r_squared = r2_score(group, pred_for_month)\n",
        "        r_squared_monthly.append((month, r_squared))\n",
        "        print(f'R-squared para el mes {month}: {r_squared}')\n",
        "    else:\n",
        "        print(f'No hay suficientes datos válidos para el mes {month} para calcular R-squared.')\n",
        "    # Crear la figura usando Plotly para una mejor interactividad y presentación\n",
        "fig = go.Figure()\n",
        "\n",
        "# Añadir los datos reales a la gráfica\n",
        "fig.add_trace(go.Scatter(x=real_data_20245.index, y=real_valor, mode='lines', name='Datos Reales 2024 y 2025', line=dict(color='blue')))\n",
        "\n",
        "# Añadir las predicciones a la gráfica\n",
        "fig.add_trace(go.Scatter(x=real_data_20245.index[:len(predictions)], y=predictions, mode='lines', name='Predicciones 2024 y 2025', line=dict(color='red')))\n",
        "\n",
        "# Configuración adicional del gráfico\n",
        "fig.update_layout(\n",
        "    title='Comparación de Predicciones vs Datos Reales para 2024 y 2025',\n",
        "    xaxis_title='Fecha',\n",
        "    yaxis_title='Estimación del precio del dolar en México',\n",
        "    legend_title='Leyenda'\n",
        ")\n",
        "\n",
        "# Mostrar la gráfica\n",
        "fig.show()\n",
        "\n",
        "# Imprimir los R-squared mensuales\n",
        "for month, r_squared in r_squared_monthly:\n",
        "    print(f\"R-squared para el mes {month}: {r_squared:.4f}\")"
      ],
      "metadata": {
        "colab": {
          "base_uri": "https://localhost:8080/",
          "height": 959
        },
        "id": "0m90rVv8OGy5",
        "outputId": "08721f0c-70d5-4279-c07b-c4faf07006c5"
      },
      "execution_count": 89,
      "outputs": [
        {
          "output_type": "stream",
          "name": "stdout",
          "text": [
            "R-squared para el mes 1: 0.8513904418435015\n",
            "R-squared para el mes 2: 0.9743478285200826\n",
            "R-squared para el mes 3: 0.9666607873820949\n",
            "R-squared para el mes 4: 0.9677551222137744\n",
            "R-squared para el mes 5: -5.354892079349379\n",
            "R-squared para el mes 6: -0.18781431613736577\n",
            "R-squared para el mes 7: -0.0903132283081094\n",
            "R-squared para el mes 8: 0.23295833883218098\n",
            "R-squared para el mes 9: -0.27304400997858136\n",
            "R-squared para el mes 10: 0.28546328821815126\n",
            "R-squared para el mes 11: -0.5819554051601417\n",
            "R-squared para el mes 12: -1.2218292659998164\n"
          ]
        },
        {
          "output_type": "display_data",
          "data": {
            "text/html": [
              "<html>\n",
              "<head><meta charset=\"utf-8\" /></head>\n",
              "<body>\n",
              "    <div>            <script src=\"https://cdnjs.cloudflare.com/ajax/libs/mathjax/2.7.5/MathJax.js?config=TeX-AMS-MML_SVG\"></script><script type=\"text/javascript\">if (window.MathJax && window.MathJax.Hub && window.MathJax.Hub.Config) {window.MathJax.Hub.Config({SVG: {font: \"STIX-Web\"}});}</script>                <script type=\"text/javascript\">window.PlotlyConfig = {MathJaxConfig: 'local'};</script>\n",
              "        <script charset=\"utf-8\" src=\"https://cdn.plot.ly/plotly-2.35.2.min.js\"></script>                <div id=\"f3134614-138f-4290-9354-03e349ca9213\" class=\"plotly-graph-div\" style=\"height:525px; width:100%;\"></div>            <script type=\"text/javascript\">                                    window.PLOTLYENV=window.PLOTLYENV || {};                                    if (document.getElementById(\"f3134614-138f-4290-9354-03e349ca9213\")) {                    Plotly.newPlot(                        \"f3134614-138f-4290-9354-03e349ca9213\",                        [{\"line\":{\"color\":\"blue\"},\"mode\":\"lines\",\"name\":\"Datos Reales 2024 y 2025\",\"x\":[\"2024-01-03T00:00:00\",\"2024-01-04T00:00:00\",\"2024-01-05T00:00:00\",\"2024-01-08T00:00:00\",\"2024-01-09T00:00:00\",\"2024-01-10T00:00:00\",\"2024-01-11T00:00:00\",\"2024-01-12T00:00:00\",\"2024-01-15T00:00:00\",\"2024-01-16T00:00:00\",\"2024-01-17T00:00:00\",\"2024-01-18T00:00:00\",\"2024-01-19T00:00:00\",\"2024-01-22T00:00:00\",\"2024-01-23T00:00:00\",\"2024-01-24T00:00:00\",\"2024-01-25T00:00:00\",\"2024-01-26T00:00:00\",\"2024-01-29T00:00:00\",\"2024-01-30T00:00:00\",\"2024-01-31T00:00:00\",\"2024-02-01T00:00:00\",\"2024-02-02T00:00:00\",\"2024-02-06T00:00:00\",\"2024-02-07T00:00:00\",\"2024-02-08T00:00:00\",\"2024-02-09T00:00:00\",\"2024-02-12T00:00:00\",\"2024-02-13T00:00:00\",\"2024-02-14T00:00:00\",\"2024-02-15T00:00:00\",\"2024-02-16T00:00:00\",\"2024-02-19T00:00:00\",\"2024-02-20T00:00:00\",\"2024-02-21T00:00:00\",\"2024-02-22T00:00:00\",\"2024-02-23T00:00:00\",\"2024-02-26T00:00:00\",\"2024-02-27T00:00:00\",\"2024-02-28T00:00:00\",\"2024-02-29T00:00:00\",\"2024-03-01T00:00:00\",\"2024-03-04T00:00:00\",\"2024-03-05T00:00:00\",\"2024-03-06T00:00:00\",\"2024-03-07T00:00:00\",\"2024-03-08T00:00:00\",\"2024-03-11T00:00:00\",\"2024-03-12T00:00:00\",\"2024-03-13T00:00:00\",\"2024-03-14T00:00:00\",\"2024-03-15T00:00:00\",\"2024-03-19T00:00:00\",\"2024-03-20T00:00:00\",\"2024-03-21T00:00:00\",\"2024-03-22T00:00:00\",\"2024-03-25T00:00:00\",\"2024-03-26T00:00:00\",\"2024-03-27T00:00:00\",\"2024-04-01T00:00:00\",\"2024-04-02T00:00:00\",\"2024-04-03T00:00:00\",\"2024-04-04T00:00:00\",\"2024-04-05T00:00:00\",\"2024-04-08T00:00:00\",\"2024-04-09T00:00:00\",\"2024-04-10T00:00:00\",\"2024-04-11T00:00:00\",\"2024-04-12T00:00:00\",\"2024-04-15T00:00:00\",\"2024-04-16T00:00:00\",\"2024-04-17T00:00:00\",\"2024-04-18T00:00:00\",\"2024-04-19T00:00:00\",\"2024-04-22T00:00:00\",\"2024-04-23T00:00:00\",\"2024-04-24T00:00:00\",\"2024-04-25T00:00:00\",\"2024-04-26T00:00:00\",\"2024-04-29T00:00:00\",\"2024-04-30T00:00:00\",\"2024-05-02T00:00:00\",\"2024-05-03T00:00:00\",\"2024-05-06T00:00:00\",\"2024-05-07T00:00:00\",\"2024-05-08T00:00:00\",\"2024-05-09T00:00:00\",\"2024-05-10T00:00:00\",\"2024-05-13T00:00:00\",\"2024-05-14T00:00:00\",\"2024-05-15T00:00:00\",\"2024-05-16T00:00:00\",\"2024-05-17T00:00:00\",\"2024-05-20T00:00:00\",\"2024-05-21T00:00:00\",\"2024-05-22T00:00:00\",\"2024-05-23T00:00:00\",\"2024-05-24T00:00:00\",\"2024-05-27T00:00:00\",\"2024-05-28T00:00:00\",\"2024-05-29T00:00:00\",\"2024-05-30T00:00:00\",\"2024-05-31T00:00:00\",\"2024-06-03T00:00:00\",\"2024-06-04T00:00:00\",\"2024-06-05T00:00:00\",\"2024-06-06T00:00:00\",\"2024-06-07T00:00:00\",\"2024-06-10T00:00:00\",\"2024-06-11T00:00:00\",\"2024-06-12T00:00:00\",\"2024-06-13T00:00:00\",\"2024-06-14T00:00:00\",\"2024-06-17T00:00:00\",\"2024-06-18T00:00:00\",\"2024-06-19T00:00:00\",\"2024-06-20T00:00:00\",\"2024-06-21T00:00:00\",\"2024-06-24T00:00:00\",\"2024-06-25T00:00:00\",\"2024-06-26T00:00:00\",\"2024-06-27T00:00:00\",\"2024-06-28T00:00:00\",\"2024-07-01T00:00:00\",\"2024-07-02T00:00:00\",\"2024-07-03T00:00:00\",\"2024-07-04T00:00:00\",\"2024-07-05T00:00:00\",\"2024-07-08T00:00:00\",\"2024-07-09T00:00:00\",\"2024-07-10T00:00:00\",\"2024-07-11T00:00:00\",\"2024-07-12T00:00:00\",\"2024-07-15T00:00:00\",\"2024-07-16T00:00:00\",\"2024-07-17T00:00:00\",\"2024-07-18T00:00:00\",\"2024-07-19T00:00:00\",\"2024-07-22T00:00:00\",\"2024-07-23T00:00:00\",\"2024-07-24T00:00:00\",\"2024-07-25T00:00:00\",\"2024-07-26T00:00:00\",\"2024-07-29T00:00:00\",\"2024-07-30T00:00:00\",\"2024-07-31T00:00:00\",\"2024-08-01T00:00:00\",\"2024-08-02T00:00:00\",\"2024-08-05T00:00:00\",\"2024-08-06T00:00:00\",\"2024-08-07T00:00:00\",\"2024-08-08T00:00:00\",\"2024-08-09T00:00:00\",\"2024-08-12T00:00:00\",\"2024-08-13T00:00:00\",\"2024-08-14T00:00:00\",\"2024-08-15T00:00:00\",\"2024-08-16T00:00:00\",\"2024-08-19T00:00:00\",\"2024-08-20T00:00:00\",\"2024-08-21T00:00:00\",\"2024-08-22T00:00:00\",\"2024-08-23T00:00:00\",\"2024-08-26T00:00:00\",\"2024-08-27T00:00:00\",\"2024-08-28T00:00:00\",\"2024-08-29T00:00:00\",\"2024-08-30T00:00:00\",\"2024-09-02T00:00:00\",\"2024-09-03T00:00:00\",\"2024-09-04T00:00:00\",\"2024-09-05T00:00:00\",\"2024-09-06T00:00:00\",\"2024-09-09T00:00:00\",\"2024-09-10T00:00:00\",\"2024-09-11T00:00:00\",\"2024-09-12T00:00:00\",\"2024-09-13T00:00:00\",\"2024-09-17T00:00:00\",\"2024-09-18T00:00:00\",\"2024-09-19T00:00:00\",\"2024-09-20T00:00:00\",\"2024-09-23T00:00:00\",\"2024-09-24T00:00:00\",\"2024-09-25T00:00:00\",\"2024-09-26T00:00:00\",\"2024-09-27T00:00:00\",\"2024-09-30T00:00:00\",\"2024-10-02T00:00:00\",\"2024-10-03T00:00:00\",\"2024-10-04T00:00:00\",\"2024-10-07T00:00:00\",\"2024-10-08T00:00:00\",\"2024-10-09T00:00:00\",\"2024-10-10T00:00:00\",\"2024-10-11T00:00:00\",\"2024-10-14T00:00:00\",\"2024-10-15T00:00:00\",\"2024-10-16T00:00:00\",\"2024-10-17T00:00:00\",\"2024-10-18T00:00:00\",\"2024-10-21T00:00:00\",\"2024-10-22T00:00:00\",\"2024-10-23T00:00:00\",\"2024-10-24T00:00:00\",\"2024-10-25T00:00:00\",\"2024-10-28T00:00:00\",\"2024-10-29T00:00:00\",\"2024-10-30T00:00:00\",\"2024-10-31T00:00:00\",\"2024-11-01T00:00:00\",\"2024-11-04T00:00:00\",\"2024-11-05T00:00:00\",\"2024-11-06T00:00:00\",\"2024-11-07T00:00:00\",\"2024-11-08T00:00:00\",\"2024-11-11T00:00:00\",\"2024-11-12T00:00:00\",\"2024-11-13T00:00:00\",\"2024-11-14T00:00:00\",\"2024-11-15T00:00:00\",\"2024-11-19T00:00:00\",\"2024-11-20T00:00:00\",\"2024-11-21T00:00:00\",\"2024-11-22T00:00:00\",\"2024-11-25T00:00:00\",\"2024-11-26T00:00:00\",\"2024-11-27T00:00:00\",\"2024-11-28T00:00:00\",\"2024-11-29T00:00:00\",\"2024-12-02T00:00:00\",\"2024-12-03T00:00:00\",\"2024-12-04T00:00:00\",\"2024-12-05T00:00:00\",\"2024-12-06T00:00:00\",\"2024-12-09T00:00:00\",\"2024-12-10T00:00:00\",\"2024-12-11T00:00:00\",\"2024-12-13T00:00:00\",\"2024-12-16T00:00:00\",\"2024-12-17T00:00:00\",\"2024-12-18T00:00:00\",\"2024-12-19T00:00:00\",\"2024-12-20T00:00:00\",\"2024-12-23T00:00:00\",\"2024-12-24T00:00:00\",\"2024-12-26T00:00:00\",\"2024-12-27T00:00:00\",\"2024-12-30T00:00:00\",\"2024-12-31T00:00:00\",\"2025-01-02T00:00:00\",\"2025-01-03T00:00:00\",\"2025-01-06T00:00:00\",\"2025-01-07T00:00:00\",\"2025-01-08T00:00:00\",\"2025-01-09T00:00:00\",\"2025-01-10T00:00:00\",\"2025-01-13T00:00:00\",\"2025-01-14T00:00:00\",\"2025-01-15T00:00:00\",\"2025-01-16T00:00:00\",\"2025-01-17T00:00:00\",\"2025-01-20T00:00:00\",\"2025-01-21T00:00:00\",\"2025-01-22T00:00:00\",\"2025-01-23T00:00:00\",\"2025-01-24T00:00:00\",\"2025-01-27T00:00:00\",\"2025-01-28T00:00:00\",\"2025-01-29T00:00:00\",\"2025-01-30T00:00:00\",\"2025-01-31T00:00:00\",\"2025-02-04T00:00:00\",\"2025-02-05T00:00:00\",\"2025-02-06T00:00:00\",\"2025-02-07T00:00:00\",\"2025-02-10T00:00:00\",\"2025-02-11T00:00:00\",\"2025-02-12T00:00:00\",\"2025-02-13T00:00:00\",\"2025-02-14T00:00:00\",\"2025-02-17T00:00:00\",\"2025-02-18T00:00:00\",\"2025-02-19T00:00:00\",\"2025-02-20T00:00:00\",\"2025-02-21T00:00:00\",\"2025-02-24T00:00:00\",\"2025-02-25T00:00:00\",\"2025-02-26T00:00:00\",\"2025-02-27T00:00:00\",\"2025-02-28T00:00:00\",\"2025-03-03T00:00:00\",\"2025-03-04T00:00:00\",\"2025-03-05T00:00:00\",\"2025-03-06T00:00:00\",\"2025-03-07T00:00:00\",\"2025-03-10T00:00:00\",\"2025-03-11T00:00:00\",\"2025-03-12T00:00:00\",\"2025-03-13T00:00:00\",\"2025-03-14T00:00:00\",\"2025-03-18T00:00:00\",\"2025-03-19T00:00:00\",\"2025-03-20T00:00:00\",\"2025-03-21T00:00:00\",\"2025-03-24T00:00:00\",\"2025-03-25T00:00:00\",\"2025-03-26T00:00:00\",\"2025-03-27T00:00:00\",\"2025-03-28T00:00:00\",\"2025-03-31T00:00:00\",\"2025-04-01T00:00:00\",\"2025-04-02T00:00:00\",\"2025-04-03T00:00:00\",\"2025-04-04T00:00:00\",\"2025-04-07T00:00:00\",\"2025-04-08T00:00:00\",\"2025-04-09T00:00:00\",\"2025-04-10T00:00:00\",\"2025-04-11T00:00:00\",\"2025-04-14T00:00:00\",\"2025-04-15T00:00:00\",\"2025-04-16T00:00:00\"],\"y\":[17.0492,17.0458,16.8987,16.8133,16.9347,16.9912,16.9898,16.858,16.8983,17.1598,17.2957,17.1995,17.1325,17.1125,17.352,17.1673,17.2375,17.1657,17.2333,17.1932,17.1633,17.1335,17.1447,17.0357,17.0398,17.1023,17.0855,17.068,17.1982,17.1105,17.068,17.0602,17.05,17.0458,17.0603,17.121,17.126,17.126,17.0605,17.0962,17.0633,17.0217,16.9828,16.9257,16.8728,16.877,16.7985,16.8083,16.8272,16.7127,16.692,16.71,16.8523,16.759,16.762,16.7367,16.7032,16.678,16.5323,16.6578,16.5673,16.5415,16.5173,16.4758,16.3357,16.3932,16.4883,16.4583,16.6693,16.6815,17.0252,16.9948,17.1145,17.212,17.1243,16.9995,17.1098,17.1883,17.1552,17.0243,17.0958,16.9393,17.0042,16.8947,16.9083,16.9087,16.866,16.769,16.8072,16.846,16.6782,16.6893,16.6217,16.5668,16.6138,16.6405,16.6945,16.7023,16.6568,16.7457,16.95,16.9377,17.0177,17.6338,17.8607,17.5592,17.5335,18.2622,18.3848,18.4457,18.7832,18.5385,18.4512,18.5248,18.4128,18.423,18.4027,18.1848,17.9627,18.1372,18.2215,18.3773,18.2478,18.3897,18.2485,18.1355,18.0958,18.0977,18.0095,17.9428,17.8288,17.8192,17.6502,17.7837,17.6795,17.7438,17.8907,17.997,17.9107,18.0987,18.3458,18.385,18.4475,18.6818,18.79,18.597,18.706,19.0442,19.3905,19.33,19.189,19.09,18.8368,19.032,19.0387,18.8478,18.6513,18.6228,18.7357,18.9448,19.2535,19.4235,19.0708,19.382,19.6692,19.6037,19.8168,19.6535,19.798,19.8335,19.846,20.0028,20.0172,19.8798,20.0583,19.839,19.5887,19.2483,19.267,19.3033,19.2773,19.3725,19.415,19.3562,19.587,19.629,19.6697,19.644,19.3885,19.4678,19.2127,19.3388,19.3532,19.4175,19.5113,19.3983,19.342,19.62,19.8925,19.9313,19.8325,20.0075,19.8985,19.9338,19.8385,19.9303,20.0007,20.0208,20.1617,20.0378,20.0908,20.0367,20.2695,20.3093,19.8277,20.1332,20.4502,20.5693,20.6025,20.494,20.3887,20.1848,20.2903,20.3775,20.4872,20.2993,20.7185,20.6418,20.4173,20.3212,20.4357,20.3233,20.283,20.1963,20.2275,20.1547,20.2485,20.1647,20.142,20.1448,20.2363,20.1395,20.4402,20.1035,20.1948,20.1558,20.1657,20.2683,20.5103,20.7862,20.6917,20.6708,20.3195,20.344,20.3823,20.4742,20.7045,20.8012,20.482,20.4875,20.7732,20.718,20.543,20.6358,20.5397,20.3943,20.2255,20.7002,20.5668,20.5677,20.4497,20.6068,20.4268,20.6363,20.5125,20.5512,20.6693,20.568,20.4917,20.4978,20.3082,20.283,20.2617,20.4208,20.3733,20.3448,20.464,20.4683,20.4277,20.4722,20.508,20.4333,20.8518,20.3893,20.2777,20.283,20.2922,20.3388,20.1828,20.0848,19.8693,19.9845,20.0553,20.1345,20.2163,20.1123,20.0762,20.0963,20.3182,20.4003,20.438,20.3587,20.4568,19.9708,20.501,20.6947,20.6867,20.7653,20.492,20.3363,20.1025,20.0213,19.9737],\"type\":\"scatter\"},{\"line\":{\"color\":\"red\"},\"mode\":\"lines\",\"name\":\"Predicciones 2024 y 2025\",\"x\":[\"2024-01-03T00:00:00\",\"2024-01-04T00:00:00\",\"2024-01-05T00:00:00\",\"2024-01-08T00:00:00\",\"2024-01-09T00:00:00\",\"2024-01-10T00:00:00\",\"2024-01-11T00:00:00\",\"2024-01-12T00:00:00\",\"2024-01-15T00:00:00\",\"2024-01-16T00:00:00\",\"2024-01-17T00:00:00\",\"2024-01-18T00:00:00\",\"2024-01-19T00:00:00\",\"2024-01-22T00:00:00\",\"2024-01-23T00:00:00\",\"2024-01-24T00:00:00\",\"2024-01-25T00:00:00\",\"2024-01-26T00:00:00\",\"2024-01-29T00:00:00\",\"2024-01-30T00:00:00\",\"2024-01-31T00:00:00\",\"2024-02-01T00:00:00\",\"2024-02-02T00:00:00\",\"2024-02-06T00:00:00\",\"2024-02-07T00:00:00\",\"2024-02-08T00:00:00\",\"2024-02-09T00:00:00\",\"2024-02-12T00:00:00\",\"2024-02-13T00:00:00\",\"2024-02-14T00:00:00\",\"2024-02-15T00:00:00\",\"2024-02-16T00:00:00\",\"2024-02-19T00:00:00\",\"2024-02-20T00:00:00\",\"2024-02-21T00:00:00\",\"2024-02-22T00:00:00\",\"2024-02-23T00:00:00\",\"2024-02-26T00:00:00\",\"2024-02-27T00:00:00\",\"2024-02-28T00:00:00\",\"2024-02-29T00:00:00\",\"2024-03-01T00:00:00\",\"2024-03-04T00:00:00\",\"2024-03-05T00:00:00\",\"2024-03-06T00:00:00\",\"2024-03-07T00:00:00\",\"2024-03-08T00:00:00\",\"2024-03-11T00:00:00\",\"2024-03-12T00:00:00\",\"2024-03-13T00:00:00\",\"2024-03-14T00:00:00\",\"2024-03-15T00:00:00\",\"2024-03-19T00:00:00\",\"2024-03-20T00:00:00\",\"2024-03-21T00:00:00\",\"2024-03-22T00:00:00\",\"2024-03-25T00:00:00\",\"2024-03-26T00:00:00\",\"2024-03-27T00:00:00\",\"2024-04-01T00:00:00\",\"2024-04-02T00:00:00\",\"2024-04-03T00:00:00\",\"2024-04-04T00:00:00\",\"2024-04-05T00:00:00\",\"2024-04-08T00:00:00\",\"2024-04-09T00:00:00\",\"2024-04-10T00:00:00\",\"2024-04-11T00:00:00\",\"2024-04-12T00:00:00\",\"2024-04-15T00:00:00\",\"2024-04-16T00:00:00\",\"2024-04-17T00:00:00\",\"2024-04-18T00:00:00\",\"2024-04-19T00:00:00\",\"2024-04-22T00:00:00\",\"2024-04-23T00:00:00\",\"2024-04-24T00:00:00\",\"2024-04-25T00:00:00\",\"2024-04-26T00:00:00\",\"2024-04-29T00:00:00\",\"2024-04-30T00:00:00\",\"2024-05-02T00:00:00\",\"2024-05-03T00:00:00\",\"2024-05-06T00:00:00\",\"2024-05-07T00:00:00\",\"2024-05-08T00:00:00\",\"2024-05-09T00:00:00\",\"2024-05-10T00:00:00\",\"2024-05-13T00:00:00\",\"2024-05-14T00:00:00\",\"2024-05-15T00:00:00\",\"2024-05-16T00:00:00\",\"2024-05-17T00:00:00\",\"2024-05-20T00:00:00\",\"2024-05-21T00:00:00\",\"2024-05-22T00:00:00\",\"2024-05-23T00:00:00\",\"2024-05-24T00:00:00\",\"2024-05-27T00:00:00\",\"2024-05-28T00:00:00\",\"2024-05-29T00:00:00\",\"2024-05-30T00:00:00\",\"2024-05-31T00:00:00\",\"2024-06-03T00:00:00\",\"2024-06-04T00:00:00\",\"2024-06-05T00:00:00\",\"2024-06-06T00:00:00\",\"2024-06-07T00:00:00\",\"2024-06-10T00:00:00\",\"2024-06-11T00:00:00\",\"2024-06-12T00:00:00\",\"2024-06-13T00:00:00\",\"2024-06-14T00:00:00\",\"2024-06-17T00:00:00\",\"2024-06-18T00:00:00\",\"2024-06-19T00:00:00\",\"2024-06-20T00:00:00\",\"2024-06-21T00:00:00\",\"2024-06-24T00:00:00\",\"2024-06-25T00:00:00\",\"2024-06-26T00:00:00\",\"2024-06-27T00:00:00\",\"2024-06-28T00:00:00\",\"2024-07-01T00:00:00\",\"2024-07-02T00:00:00\",\"2024-07-03T00:00:00\",\"2024-07-04T00:00:00\",\"2024-07-05T00:00:00\",\"2024-07-08T00:00:00\",\"2024-07-09T00:00:00\",\"2024-07-10T00:00:00\",\"2024-07-11T00:00:00\",\"2024-07-12T00:00:00\",\"2024-07-15T00:00:00\",\"2024-07-16T00:00:00\",\"2024-07-17T00:00:00\",\"2024-07-18T00:00:00\",\"2024-07-19T00:00:00\",\"2024-07-22T00:00:00\",\"2024-07-23T00:00:00\",\"2024-07-24T00:00:00\",\"2024-07-25T00:00:00\",\"2024-07-26T00:00:00\",\"2024-07-29T00:00:00\",\"2024-07-30T00:00:00\",\"2024-07-31T00:00:00\",\"2024-08-01T00:00:00\",\"2024-08-02T00:00:00\",\"2024-08-05T00:00:00\",\"2024-08-06T00:00:00\",\"2024-08-07T00:00:00\",\"2024-08-08T00:00:00\",\"2024-08-09T00:00:00\",\"2024-08-12T00:00:00\",\"2024-08-13T00:00:00\",\"2024-08-14T00:00:00\",\"2024-08-15T00:00:00\",\"2024-08-16T00:00:00\",\"2024-08-19T00:00:00\",\"2024-08-20T00:00:00\",\"2024-08-21T00:00:00\",\"2024-08-22T00:00:00\",\"2024-08-23T00:00:00\",\"2024-08-26T00:00:00\",\"2024-08-27T00:00:00\",\"2024-08-28T00:00:00\",\"2024-08-29T00:00:00\",\"2024-08-30T00:00:00\",\"2024-09-02T00:00:00\",\"2024-09-03T00:00:00\",\"2024-09-04T00:00:00\",\"2024-09-05T00:00:00\",\"2024-09-06T00:00:00\",\"2024-09-09T00:00:00\",\"2024-09-10T00:00:00\",\"2024-09-11T00:00:00\",\"2024-09-12T00:00:00\",\"2024-09-13T00:00:00\",\"2024-09-17T00:00:00\",\"2024-09-18T00:00:00\",\"2024-09-19T00:00:00\",\"2024-09-20T00:00:00\",\"2024-09-23T00:00:00\",\"2024-09-24T00:00:00\",\"2024-09-25T00:00:00\",\"2024-09-26T00:00:00\",\"2024-09-27T00:00:00\",\"2024-09-30T00:00:00\",\"2024-10-02T00:00:00\",\"2024-10-03T00:00:00\",\"2024-10-04T00:00:00\",\"2024-10-07T00:00:00\",\"2024-10-08T00:00:00\",\"2024-10-09T00:00:00\",\"2024-10-10T00:00:00\",\"2024-10-11T00:00:00\",\"2024-10-14T00:00:00\",\"2024-10-15T00:00:00\",\"2024-10-16T00:00:00\",\"2024-10-17T00:00:00\",\"2024-10-18T00:00:00\",\"2024-10-21T00:00:00\",\"2024-10-22T00:00:00\",\"2024-10-23T00:00:00\",\"2024-10-24T00:00:00\",\"2024-10-25T00:00:00\",\"2024-10-28T00:00:00\",\"2024-10-29T00:00:00\",\"2024-10-30T00:00:00\",\"2024-10-31T00:00:00\",\"2024-11-01T00:00:00\",\"2024-11-04T00:00:00\",\"2024-11-05T00:00:00\",\"2024-11-06T00:00:00\",\"2024-11-07T00:00:00\",\"2024-11-08T00:00:00\",\"2024-11-11T00:00:00\",\"2024-11-12T00:00:00\",\"2024-11-13T00:00:00\",\"2024-11-14T00:00:00\",\"2024-11-15T00:00:00\",\"2024-11-19T00:00:00\",\"2024-11-20T00:00:00\",\"2024-11-21T00:00:00\",\"2024-11-22T00:00:00\",\"2024-11-25T00:00:00\",\"2024-11-26T00:00:00\",\"2024-11-27T00:00:00\",\"2024-11-28T00:00:00\",\"2024-11-29T00:00:00\",\"2024-12-02T00:00:00\",\"2024-12-03T00:00:00\",\"2024-12-04T00:00:00\",\"2024-12-05T00:00:00\",\"2024-12-06T00:00:00\",\"2024-12-09T00:00:00\",\"2024-12-10T00:00:00\",\"2024-12-11T00:00:00\",\"2024-12-13T00:00:00\",\"2024-12-16T00:00:00\",\"2024-12-17T00:00:00\",\"2024-12-18T00:00:00\",\"2024-12-19T00:00:00\",\"2024-12-20T00:00:00\",\"2024-12-23T00:00:00\",\"2024-12-24T00:00:00\",\"2024-12-26T00:00:00\",\"2024-12-27T00:00:00\",\"2024-12-30T00:00:00\",\"2024-12-31T00:00:00\",\"2025-01-02T00:00:00\",\"2025-01-03T00:00:00\",\"2025-01-06T00:00:00\",\"2025-01-07T00:00:00\",\"2025-01-08T00:00:00\",\"2025-01-09T00:00:00\",\"2025-01-10T00:00:00\",\"2025-01-13T00:00:00\",\"2025-01-14T00:00:00\",\"2025-01-15T00:00:00\",\"2025-01-16T00:00:00\",\"2025-01-17T00:00:00\",\"2025-01-20T00:00:00\",\"2025-01-21T00:00:00\",\"2025-01-22T00:00:00\",\"2025-01-23T00:00:00\",\"2025-01-24T00:00:00\",\"2025-01-27T00:00:00\",\"2025-01-28T00:00:00\",\"2025-01-29T00:00:00\",\"2025-01-30T00:00:00\",\"2025-01-31T00:00:00\",\"2025-02-04T00:00:00\",\"2025-02-05T00:00:00\",\"2025-02-06T00:00:00\",\"2025-02-07T00:00:00\",\"2025-02-10T00:00:00\",\"2025-02-11T00:00:00\",\"2025-02-12T00:00:00\",\"2025-02-13T00:00:00\",\"2025-02-14T00:00:00\",\"2025-02-17T00:00:00\",\"2025-02-18T00:00:00\",\"2025-02-19T00:00:00\",\"2025-02-20T00:00:00\",\"2025-02-21T00:00:00\",\"2025-02-24T00:00:00\",\"2025-02-25T00:00:00\",\"2025-02-26T00:00:00\",\"2025-02-27T00:00:00\",\"2025-02-28T00:00:00\",\"2025-03-03T00:00:00\",\"2025-03-04T00:00:00\",\"2025-03-05T00:00:00\",\"2025-03-06T00:00:00\",\"2025-03-07T00:00:00\",\"2025-03-10T00:00:00\",\"2025-03-11T00:00:00\",\"2025-03-12T00:00:00\",\"2025-03-13T00:00:00\",\"2025-03-14T00:00:00\",\"2025-03-18T00:00:00\",\"2025-03-19T00:00:00\",\"2025-03-20T00:00:00\",\"2025-03-21T00:00:00\",\"2025-03-24T00:00:00\",\"2025-03-25T00:00:00\",\"2025-03-26T00:00:00\",\"2025-03-27T00:00:00\",\"2025-03-28T00:00:00\",\"2025-03-31T00:00:00\",\"2025-04-01T00:00:00\",\"2025-04-02T00:00:00\",\"2025-04-03T00:00:00\",\"2025-04-04T00:00:00\",\"2025-04-07T00:00:00\",\"2025-04-08T00:00:00\",\"2025-04-09T00:00:00\",\"2025-04-10T00:00:00\",\"2025-04-11T00:00:00\",\"2025-04-14T00:00:00\",\"2025-04-15T00:00:00\",\"2025-04-16T00:00:00\"],\"y\":[20.22682921242714,18.59898746967316,17.96604812002182,17.851595663905144,17.549102551221846,17.52306247872114,17.731083898365497,17.632423960268497,17.434078016519546,17.42733116310835,17.499558708757164,17.537813183903694,17.498360755205155,17.422959223091603,17.367712964266538,17.4999169139266,17.44172366312146,17.432088862538336,17.439170303195716,17.46195635071397,17.444665406674147,17.435046351373195,17.416797569334506,17.415385742366315,17.35422713008523,17.331277069211005,17.37967806661129,17.38372722834349,17.363848809599876,17.456942790448664,17.43619838118553,17.369081491708755,17.36799506723881,17.3618412861228,17.33817350280285,17.357222670018672,17.41028427094221,17.422476367771626,17.42541286289692,17.3907876752913,17.391746825397014,17.37865724748373,17.340703244805336,17.30654647934437,17.263853146731854,17.210324435770513,17.19822418642044,17.149888794362546,17.128273146152495,17.14568742823601,17.072221253722905,17.017247913122176,17.029825769364834,17.11886927637458,17.084351681530475,17.06173227158189,17.057353771030904,17.01637798628211,16.979072164386512,16.88691896414757,16.92534270107746,16.902990960925816,16.85190408080816,16.836358238875867,16.807658525794743,16.689055875718594,16.686468401014803,16.773181606262924,16.76196702903509,16.88811035716534,16.977544872015713,17.190877700179815,17.26750342798233,17.338773135632277,17.445282096892594,17.41731322732568,17.304208304941653,17.367294402182104,17.46363978379965,17.449466405630112,17.377990697205068,17.417836757957936,17.3272331559062,17.310823947668077,17.277403274148703,17.249044708848,17.24505721613765,17.224294437378646,17.139777698993683,17.134117270052432,17.171207906425,17.05593538352847,17.010270128905773,16.983923023402692,16.908294496804476,16.91195789912343,16.956106358230112,16.984413751363753,16.998327332377436,16.97767214637995,17.01543982988596,17.172375681519508,17.216894154757263,17.260414114683865,17.72611363762617,18.055721438318493,17.87689570814371,17.821557601839302,18.356113867938518,18.57535380113125,18.614421782523394,18.970334701299667,18.908077855587006,18.720436079502107,18.81918261665106,18.77474418193102,18.695443068265917,18.749394277632238,18.623993601977826,18.391818919479846,18.478255270183087,18.57796751797199,18.64740683656931,18.628927123725415,18.702310635507107,18.620121574670076,18.492889197856186,18.44666760993004,18.429237582564355,18.35224840116501,18.296950970172883,18.21787816309929,18.168613799393178,18.0548948110044,18.09169547176361,18.056393237024547,18.05235063582659,18.16799186074734,18.271509218394755,18.220619154304266,18.328050526678563,18.548694414198398,18.606516338765623,18.65833537450433,18.86580177295208,18.984138065338136,18.8717718591094,18.930116002202034,19.20003212606907,19.482980095148086,19.539505658149718,19.47925371170044,19.39618947559595,19.196199461966753,19.249076055824755,19.319452218711376,19.187178727388382,19.03641502636671,19.002140171289444,19.03535484403372,19.176167526721954,19.445120564162732,19.628483559817077,19.435182666897774,19.558952393740416,19.829310697615146,19.79645423004031,19.928839250445368,19.945192038089036,19.952220994472505,20.01641713410616,20.064647557616233,20.149211531847715,20.21520263364911,20.143232260942458,20.22301098150015,20.14122604957223,19.914455935180186,19.659008413523434,19.596815861046313,19.592785068809988,19.573246485739947,19.647085298597812,19.7034035487175,19.65472438466549,19.785530940532684,19.869385064959527,19.871973851770164,19.875895739138127,19.722597047686577,19.68796529954672,19.556102497667073,19.562987122297287,19.608305980712174,19.654732257306577,19.728885975807906,19.6931376247406,19.622753589212895,19.786955888569356,20.024725394666195,20.0914145373106,20.05989773082733,20.17653090852499,20.129162539213898,20.104784906089307,20.08656236618757,20.120393729150294,20.177126605033873,20.224851867407562,20.325936578959226,20.28569557404518,20.290011093467474,20.27864168763161,20.40385473200679,20.482451244294644,20.195790012836458,20.284790220320225,20.58089074844122,20.674730005979537,20.735981777846813,20.746378912508487,20.619162280976774,20.448593639194964,20.489704570949076,20.552105748414995,20.625948497593402,20.565571900993586,20.799870884478093,20.845327514111997,20.664330247104168,20.578849110186102,20.638040874302387,20.542625776439905,20.496034174382686,20.47190059313178,20.44659136414528,20.397437217414378,20.45609889036417,20.41736287200451,20.370422249525785,20.38046117901802,20.431504759609698,20.374800750076773,20.5517488553524,20.420614272773268,20.372415339827537,20.39747133219242,20.380032120078802,20.42099215954542,20.63462677228451,20.86320496991277,20.85518537285924,20.849015846461057,20.639051196575164,20.540380761623382,20.573466847896576,20.63389199244976,20.79651713937521,20.946304632902145,20.768087720304727,20.69775092062354,20.900727289438247,20.890747404754162,20.75128750422597,20.83160550069809,20.77949386513233,20.61798400902748,20.519757066190245,20.786001915097238,20.774288737267256,20.741753735870123,20.720976523935796,20.77145327436924,20.660567124664784,20.7685430213809,20.750971286475657,20.717950805544852,20.82203368124366,20.79516829353571,20.69438536655903,20.70723614102602,20.590028260529042,20.497451249778273,20.501707724392414,20.592243096888065,20.578589313030243,20.566347356140614,20.647961714178322,20.66154858058691,20.62543415170908,20.66106047683954,20.691280921757222,20.63573943889141,20.897912820249797,20.715604758501055,20.509905767977237,20.53155290675163,20.518783482909203,20.495448974728586,20.460518066227436,20.369688781797887,20.186037122637035,20.216237885951998,20.282354950010777,20.319337993621826,20.406754488140344,20.375965900957585,20.306203804075718,20.3160104906559,20.45683760651946,20.54187393921614,20.5940984159708,20.575093860387803,20.614893997400998,20.330036912858485,20.54607792955637,20.81710540792346,20.812480231285097,20.88980006361008,20.79992074453831,20.580775283038616,20.400859192073344,20.314065948307515],\"type\":\"scatter\"}],                        {\"template\":{\"data\":{\"histogram2dcontour\":[{\"type\":\"histogram2dcontour\",\"colorbar\":{\"outlinewidth\":0,\"ticks\":\"\"},\"colorscale\":[[0.0,\"#0d0887\"],[0.1111111111111111,\"#46039f\"],[0.2222222222222222,\"#7201a8\"],[0.3333333333333333,\"#9c179e\"],[0.4444444444444444,\"#bd3786\"],[0.5555555555555556,\"#d8576b\"],[0.6666666666666666,\"#ed7953\"],[0.7777777777777778,\"#fb9f3a\"],[0.8888888888888888,\"#fdca26\"],[1.0,\"#f0f921\"]]}],\"choropleth\":[{\"type\":\"choropleth\",\"colorbar\":{\"outlinewidth\":0,\"ticks\":\"\"}}],\"histogram2d\":[{\"type\":\"histogram2d\",\"colorbar\":{\"outlinewidth\":0,\"ticks\":\"\"},\"colorscale\":[[0.0,\"#0d0887\"],[0.1111111111111111,\"#46039f\"],[0.2222222222222222,\"#7201a8\"],[0.3333333333333333,\"#9c179e\"],[0.4444444444444444,\"#bd3786\"],[0.5555555555555556,\"#d8576b\"],[0.6666666666666666,\"#ed7953\"],[0.7777777777777778,\"#fb9f3a\"],[0.8888888888888888,\"#fdca26\"],[1.0,\"#f0f921\"]]}],\"heatmap\":[{\"type\":\"heatmap\",\"colorbar\":{\"outlinewidth\":0,\"ticks\":\"\"},\"colorscale\":[[0.0,\"#0d0887\"],[0.1111111111111111,\"#46039f\"],[0.2222222222222222,\"#7201a8\"],[0.3333333333333333,\"#9c179e\"],[0.4444444444444444,\"#bd3786\"],[0.5555555555555556,\"#d8576b\"],[0.6666666666666666,\"#ed7953\"],[0.7777777777777778,\"#fb9f3a\"],[0.8888888888888888,\"#fdca26\"],[1.0,\"#f0f921\"]]}],\"heatmapgl\":[{\"type\":\"heatmapgl\",\"colorbar\":{\"outlinewidth\":0,\"ticks\":\"\"},\"colorscale\":[[0.0,\"#0d0887\"],[0.1111111111111111,\"#46039f\"],[0.2222222222222222,\"#7201a8\"],[0.3333333333333333,\"#9c179e\"],[0.4444444444444444,\"#bd3786\"],[0.5555555555555556,\"#d8576b\"],[0.6666666666666666,\"#ed7953\"],[0.7777777777777778,\"#fb9f3a\"],[0.8888888888888888,\"#fdca26\"],[1.0,\"#f0f921\"]]}],\"contourcarpet\":[{\"type\":\"contourcarpet\",\"colorbar\":{\"outlinewidth\":0,\"ticks\":\"\"}}],\"contour\":[{\"type\":\"contour\",\"colorbar\":{\"outlinewidth\":0,\"ticks\":\"\"},\"colorscale\":[[0.0,\"#0d0887\"],[0.1111111111111111,\"#46039f\"],[0.2222222222222222,\"#7201a8\"],[0.3333333333333333,\"#9c179e\"],[0.4444444444444444,\"#bd3786\"],[0.5555555555555556,\"#d8576b\"],[0.6666666666666666,\"#ed7953\"],[0.7777777777777778,\"#fb9f3a\"],[0.8888888888888888,\"#fdca26\"],[1.0,\"#f0f921\"]]}],\"surface\":[{\"type\":\"surface\",\"colorbar\":{\"outlinewidth\":0,\"ticks\":\"\"},\"colorscale\":[[0.0,\"#0d0887\"],[0.1111111111111111,\"#46039f\"],[0.2222222222222222,\"#7201a8\"],[0.3333333333333333,\"#9c179e\"],[0.4444444444444444,\"#bd3786\"],[0.5555555555555556,\"#d8576b\"],[0.6666666666666666,\"#ed7953\"],[0.7777777777777778,\"#fb9f3a\"],[0.8888888888888888,\"#fdca26\"],[1.0,\"#f0f921\"]]}],\"mesh3d\":[{\"type\":\"mesh3d\",\"colorbar\":{\"outlinewidth\":0,\"ticks\":\"\"}}],\"scatter\":[{\"fillpattern\":{\"fillmode\":\"overlay\",\"size\":10,\"solidity\":0.2},\"type\":\"scatter\"}],\"parcoords\":[{\"type\":\"parcoords\",\"line\":{\"colorbar\":{\"outlinewidth\":0,\"ticks\":\"\"}}}],\"scatterpolargl\":[{\"type\":\"scatterpolargl\",\"marker\":{\"colorbar\":{\"outlinewidth\":0,\"ticks\":\"\"}}}],\"bar\":[{\"error_x\":{\"color\":\"#2a3f5f\"},\"error_y\":{\"color\":\"#2a3f5f\"},\"marker\":{\"line\":{\"color\":\"#E5ECF6\",\"width\":0.5},\"pattern\":{\"fillmode\":\"overlay\",\"size\":10,\"solidity\":0.2}},\"type\":\"bar\"}],\"scattergeo\":[{\"type\":\"scattergeo\",\"marker\":{\"colorbar\":{\"outlinewidth\":0,\"ticks\":\"\"}}}],\"scatterpolar\":[{\"type\":\"scatterpolar\",\"marker\":{\"colorbar\":{\"outlinewidth\":0,\"ticks\":\"\"}}}],\"histogram\":[{\"marker\":{\"pattern\":{\"fillmode\":\"overlay\",\"size\":10,\"solidity\":0.2}},\"type\":\"histogram\"}],\"scattergl\":[{\"type\":\"scattergl\",\"marker\":{\"colorbar\":{\"outlinewidth\":0,\"ticks\":\"\"}}}],\"scatter3d\":[{\"type\":\"scatter3d\",\"line\":{\"colorbar\":{\"outlinewidth\":0,\"ticks\":\"\"}},\"marker\":{\"colorbar\":{\"outlinewidth\":0,\"ticks\":\"\"}}}],\"scattermapbox\":[{\"type\":\"scattermapbox\",\"marker\":{\"colorbar\":{\"outlinewidth\":0,\"ticks\":\"\"}}}],\"scatterternary\":[{\"type\":\"scatterternary\",\"marker\":{\"colorbar\":{\"outlinewidth\":0,\"ticks\":\"\"}}}],\"scattercarpet\":[{\"type\":\"scattercarpet\",\"marker\":{\"colorbar\":{\"outlinewidth\":0,\"ticks\":\"\"}}}],\"carpet\":[{\"aaxis\":{\"endlinecolor\":\"#2a3f5f\",\"gridcolor\":\"white\",\"linecolor\":\"white\",\"minorgridcolor\":\"white\",\"startlinecolor\":\"#2a3f5f\"},\"baxis\":{\"endlinecolor\":\"#2a3f5f\",\"gridcolor\":\"white\",\"linecolor\":\"white\",\"minorgridcolor\":\"white\",\"startlinecolor\":\"#2a3f5f\"},\"type\":\"carpet\"}],\"table\":[{\"cells\":{\"fill\":{\"color\":\"#EBF0F8\"},\"line\":{\"color\":\"white\"}},\"header\":{\"fill\":{\"color\":\"#C8D4E3\"},\"line\":{\"color\":\"white\"}},\"type\":\"table\"}],\"barpolar\":[{\"marker\":{\"line\":{\"color\":\"#E5ECF6\",\"width\":0.5},\"pattern\":{\"fillmode\":\"overlay\",\"size\":10,\"solidity\":0.2}},\"type\":\"barpolar\"}],\"pie\":[{\"automargin\":true,\"type\":\"pie\"}]},\"layout\":{\"autotypenumbers\":\"strict\",\"colorway\":[\"#636efa\",\"#EF553B\",\"#00cc96\",\"#ab63fa\",\"#FFA15A\",\"#19d3f3\",\"#FF6692\",\"#B6E880\",\"#FF97FF\",\"#FECB52\"],\"font\":{\"color\":\"#2a3f5f\"},\"hovermode\":\"closest\",\"hoverlabel\":{\"align\":\"left\"},\"paper_bgcolor\":\"white\",\"plot_bgcolor\":\"#E5ECF6\",\"polar\":{\"bgcolor\":\"#E5ECF6\",\"angularaxis\":{\"gridcolor\":\"white\",\"linecolor\":\"white\",\"ticks\":\"\"},\"radialaxis\":{\"gridcolor\":\"white\",\"linecolor\":\"white\",\"ticks\":\"\"}},\"ternary\":{\"bgcolor\":\"#E5ECF6\",\"aaxis\":{\"gridcolor\":\"white\",\"linecolor\":\"white\",\"ticks\":\"\"},\"baxis\":{\"gridcolor\":\"white\",\"linecolor\":\"white\",\"ticks\":\"\"},\"caxis\":{\"gridcolor\":\"white\",\"linecolor\":\"white\",\"ticks\":\"\"}},\"coloraxis\":{\"colorbar\":{\"outlinewidth\":0,\"ticks\":\"\"}},\"colorscale\":{\"sequential\":[[0.0,\"#0d0887\"],[0.1111111111111111,\"#46039f\"],[0.2222222222222222,\"#7201a8\"],[0.3333333333333333,\"#9c179e\"],[0.4444444444444444,\"#bd3786\"],[0.5555555555555556,\"#d8576b\"],[0.6666666666666666,\"#ed7953\"],[0.7777777777777778,\"#fb9f3a\"],[0.8888888888888888,\"#fdca26\"],[1.0,\"#f0f921\"]],\"sequentialminus\":[[0.0,\"#0d0887\"],[0.1111111111111111,\"#46039f\"],[0.2222222222222222,\"#7201a8\"],[0.3333333333333333,\"#9c179e\"],[0.4444444444444444,\"#bd3786\"],[0.5555555555555556,\"#d8576b\"],[0.6666666666666666,\"#ed7953\"],[0.7777777777777778,\"#fb9f3a\"],[0.8888888888888888,\"#fdca26\"],[1.0,\"#f0f921\"]],\"diverging\":[[0,\"#8e0152\"],[0.1,\"#c51b7d\"],[0.2,\"#de77ae\"],[0.3,\"#f1b6da\"],[0.4,\"#fde0ef\"],[0.5,\"#f7f7f7\"],[0.6,\"#e6f5d0\"],[0.7,\"#b8e186\"],[0.8,\"#7fbc41\"],[0.9,\"#4d9221\"],[1,\"#276419\"]]},\"xaxis\":{\"gridcolor\":\"white\",\"linecolor\":\"white\",\"ticks\":\"\",\"title\":{\"standoff\":15},\"zerolinecolor\":\"white\",\"automargin\":true,\"zerolinewidth\":2},\"yaxis\":{\"gridcolor\":\"white\",\"linecolor\":\"white\",\"ticks\":\"\",\"title\":{\"standoff\":15},\"zerolinecolor\":\"white\",\"automargin\":true,\"zerolinewidth\":2},\"scene\":{\"xaxis\":{\"backgroundcolor\":\"#E5ECF6\",\"gridcolor\":\"white\",\"linecolor\":\"white\",\"showbackground\":true,\"ticks\":\"\",\"zerolinecolor\":\"white\",\"gridwidth\":2},\"yaxis\":{\"backgroundcolor\":\"#E5ECF6\",\"gridcolor\":\"white\",\"linecolor\":\"white\",\"showbackground\":true,\"ticks\":\"\",\"zerolinecolor\":\"white\",\"gridwidth\":2},\"zaxis\":{\"backgroundcolor\":\"#E5ECF6\",\"gridcolor\":\"white\",\"linecolor\":\"white\",\"showbackground\":true,\"ticks\":\"\",\"zerolinecolor\":\"white\",\"gridwidth\":2}},\"shapedefaults\":{\"line\":{\"color\":\"#2a3f5f\"}},\"annotationdefaults\":{\"arrowcolor\":\"#2a3f5f\",\"arrowhead\":0,\"arrowwidth\":1},\"geo\":{\"bgcolor\":\"white\",\"landcolor\":\"#E5ECF6\",\"subunitcolor\":\"white\",\"showland\":true,\"showlakes\":true,\"lakecolor\":\"white\"},\"title\":{\"x\":0.05},\"mapbox\":{\"style\":\"light\"}}},\"title\":{\"text\":\"Comparación de Predicciones vs Datos Reales para 2024 y 2025\"},\"xaxis\":{\"title\":{\"text\":\"Fecha\"}},\"yaxis\":{\"title\":{\"text\":\"Estimación del precio del dolar en México\"}},\"legend\":{\"title\":{\"text\":\"Leyenda\"}}},                        {\"responsive\": true}                    ).then(function(){\n",
              "                            \n",
              "var gd = document.getElementById('f3134614-138f-4290-9354-03e349ca9213');\n",
              "var x = new MutationObserver(function (mutations, observer) {{\n",
              "        var display = window.getComputedStyle(gd).display;\n",
              "        if (!display || display === 'none') {{\n",
              "            console.log([gd, 'removed!']);\n",
              "            Plotly.purge(gd);\n",
              "            observer.disconnect();\n",
              "        }}\n",
              "}});\n",
              "\n",
              "// Listen for the removal of the full notebook cells\n",
              "var notebookContainer = gd.closest('#notebook-container');\n",
              "if (notebookContainer) {{\n",
              "    x.observe(notebookContainer, {childList: true});\n",
              "}}\n",
              "\n",
              "// Listen for the clearing of the current output cell\n",
              "var outputEl = gd.closest('.output');\n",
              "if (outputEl) {{\n",
              "    x.observe(outputEl, {childList: true});\n",
              "}}\n",
              "\n",
              "                        })                };                            </script>        </div>\n",
              "</body>\n",
              "</html>"
            ]
          },
          "metadata": {}
        },
        {
          "output_type": "stream",
          "name": "stdout",
          "text": [
            "R-squared para el mes 1: 0.8514\n",
            "R-squared para el mes 2: 0.9743\n",
            "R-squared para el mes 3: 0.9667\n",
            "R-squared para el mes 4: 0.9678\n",
            "R-squared para el mes 5: -5.3549\n",
            "R-squared para el mes 6: -0.1878\n",
            "R-squared para el mes 7: -0.0903\n",
            "R-squared para el mes 8: 0.2330\n",
            "R-squared para el mes 9: -0.2730\n",
            "R-squared para el mes 10: 0.2855\n",
            "R-squared para el mes 11: -0.5820\n",
            "R-squared para el mes 12: -1.2218\n"
          ]
        }
      ]
    },
    {
      "cell_type": "code",
      "source": [],
      "metadata": {
        "id": "q8IjrGGiokC1"
      },
      "execution_count": null,
      "outputs": []
    },
    {
      "cell_type": "markdown",
      "source": [],
      "metadata": {
        "id": "KMrAR-d-okyo"
      }
    }
  ]
}